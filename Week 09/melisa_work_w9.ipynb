{
 "cells": [
  {
   "cell_type": "code",
   "execution_count": 1,
   "id": "e6627131",
   "metadata": {},
   "outputs": [],
   "source": [
    "import pandas as pd\n",
    "import numpy as np\n",
    "import matplotlib.pyplot as plt\n",
    "import datetime as dt\n",
    "\n",
    "import seaborn as sns\n",
    "sns.set()"
   ]
  },
  {
   "cell_type": "code",
   "execution_count": 2,
   "id": "5d930c90",
   "metadata": {},
   "outputs": [
    {
     "name": "stderr",
     "output_type": "stream",
     "text": [
      "C:\\Users\\melis\\anaconda3\\lib\\site-packages\\IPython\\core\\interactiveshell.py:3165: DtypeWarning: Columns (16) have mixed types.Specify dtype option on import or set low_memory=False.\n",
      "  has_raised = await self.run_ast_nodes(code_ast.body, cell_name,\n"
     ]
    },
    {
     "data": {
      "text/html": [
       "<div>\n",
       "<style scoped>\n",
       "    .dataframe tbody tr th:only-of-type {\n",
       "        vertical-align: middle;\n",
       "    }\n",
       "\n",
       "    .dataframe tbody tr th {\n",
       "        vertical-align: top;\n",
       "    }\n",
       "\n",
       "    .dataframe thead th {\n",
       "        text-align: right;\n",
       "    }\n",
       "</style>\n",
       "<table border=\"1\" class=\"dataframe\">\n",
       "  <thead>\n",
       "    <tr style=\"text-align: right;\">\n",
       "      <th></th>\n",
       "      <th>Unnamed: 0</th>\n",
       "      <th>fecha_dato</th>\n",
       "      <th>ncodpers</th>\n",
       "      <th>ind_empleado</th>\n",
       "      <th>pais_residencia</th>\n",
       "      <th>sexo</th>\n",
       "      <th>age</th>\n",
       "      <th>fecha_alta</th>\n",
       "      <th>ind_nuevo</th>\n",
       "      <th>antiguedad</th>\n",
       "      <th>...</th>\n",
       "      <th>ind_hip_fin_ult1</th>\n",
       "      <th>ind_plan_fin_ult1</th>\n",
       "      <th>ind_pres_fin_ult1</th>\n",
       "      <th>ind_reca_fin_ult1</th>\n",
       "      <th>ind_tjcr_fin_ult1</th>\n",
       "      <th>ind_valo_fin_ult1</th>\n",
       "      <th>ind_viv_fin_ult1</th>\n",
       "      <th>ind_nomina_ult1</th>\n",
       "      <th>ind_nom_pens_ult1</th>\n",
       "      <th>ind_recibo_ult1</th>\n",
       "    </tr>\n",
       "  </thead>\n",
       "  <tbody>\n",
       "    <tr>\n",
       "      <th>0</th>\n",
       "      <td>0</td>\n",
       "      <td>2015-01-28</td>\n",
       "      <td>1375586</td>\n",
       "      <td>N</td>\n",
       "      <td>ES</td>\n",
       "      <td>H</td>\n",
       "      <td>35</td>\n",
       "      <td>2015-01-12</td>\n",
       "      <td>0.0</td>\n",
       "      <td>6</td>\n",
       "      <td>...</td>\n",
       "      <td>0</td>\n",
       "      <td>0</td>\n",
       "      <td>0</td>\n",
       "      <td>0</td>\n",
       "      <td>0</td>\n",
       "      <td>0</td>\n",
       "      <td>0</td>\n",
       "      <td>0.0</td>\n",
       "      <td>0.0</td>\n",
       "      <td>0</td>\n",
       "    </tr>\n",
       "    <tr>\n",
       "      <th>1</th>\n",
       "      <td>1</td>\n",
       "      <td>2015-01-28</td>\n",
       "      <td>1050611</td>\n",
       "      <td>N</td>\n",
       "      <td>ES</td>\n",
       "      <td>V</td>\n",
       "      <td>23</td>\n",
       "      <td>2012-08-10</td>\n",
       "      <td>0.0</td>\n",
       "      <td>35</td>\n",
       "      <td>...</td>\n",
       "      <td>0</td>\n",
       "      <td>0</td>\n",
       "      <td>0</td>\n",
       "      <td>0</td>\n",
       "      <td>0</td>\n",
       "      <td>0</td>\n",
       "      <td>0</td>\n",
       "      <td>0.0</td>\n",
       "      <td>0.0</td>\n",
       "      <td>0</td>\n",
       "    </tr>\n",
       "    <tr>\n",
       "      <th>2</th>\n",
       "      <td>2</td>\n",
       "      <td>2015-01-28</td>\n",
       "      <td>1050612</td>\n",
       "      <td>N</td>\n",
       "      <td>ES</td>\n",
       "      <td>V</td>\n",
       "      <td>23</td>\n",
       "      <td>2012-08-10</td>\n",
       "      <td>0.0</td>\n",
       "      <td>35</td>\n",
       "      <td>...</td>\n",
       "      <td>0</td>\n",
       "      <td>0</td>\n",
       "      <td>0</td>\n",
       "      <td>0</td>\n",
       "      <td>0</td>\n",
       "      <td>0</td>\n",
       "      <td>0</td>\n",
       "      <td>0.0</td>\n",
       "      <td>0.0</td>\n",
       "      <td>0</td>\n",
       "    </tr>\n",
       "    <tr>\n",
       "      <th>3</th>\n",
       "      <td>3</td>\n",
       "      <td>2015-01-28</td>\n",
       "      <td>1050613</td>\n",
       "      <td>N</td>\n",
       "      <td>ES</td>\n",
       "      <td>H</td>\n",
       "      <td>22</td>\n",
       "      <td>2012-08-10</td>\n",
       "      <td>0.0</td>\n",
       "      <td>35</td>\n",
       "      <td>...</td>\n",
       "      <td>0</td>\n",
       "      <td>0</td>\n",
       "      <td>0</td>\n",
       "      <td>0</td>\n",
       "      <td>0</td>\n",
       "      <td>0</td>\n",
       "      <td>0</td>\n",
       "      <td>0.0</td>\n",
       "      <td>0.0</td>\n",
       "      <td>0</td>\n",
       "    </tr>\n",
       "    <tr>\n",
       "      <th>4</th>\n",
       "      <td>4</td>\n",
       "      <td>2015-01-28</td>\n",
       "      <td>1050614</td>\n",
       "      <td>N</td>\n",
       "      <td>ES</td>\n",
       "      <td>V</td>\n",
       "      <td>23</td>\n",
       "      <td>2012-08-10</td>\n",
       "      <td>0.0</td>\n",
       "      <td>35</td>\n",
       "      <td>...</td>\n",
       "      <td>0</td>\n",
       "      <td>0</td>\n",
       "      <td>0</td>\n",
       "      <td>0</td>\n",
       "      <td>0</td>\n",
       "      <td>0</td>\n",
       "      <td>0</td>\n",
       "      <td>0.0</td>\n",
       "      <td>0.0</td>\n",
       "      <td>0</td>\n",
       "    </tr>\n",
       "  </tbody>\n",
       "</table>\n",
       "<p>5 rows × 48 columns</p>\n",
       "</div>"
      ],
      "text/plain": [
       "   Unnamed: 0  fecha_dato  ncodpers ind_empleado pais_residencia sexo  age  \\\n",
       "0           0  2015-01-28   1375586            N              ES    H   35   \n",
       "1           1  2015-01-28   1050611            N              ES    V   23   \n",
       "2           2  2015-01-28   1050612            N              ES    V   23   \n",
       "3           3  2015-01-28   1050613            N              ES    H   22   \n",
       "4           4  2015-01-28   1050614            N              ES    V   23   \n",
       "\n",
       "   fecha_alta  ind_nuevo antiguedad  ...  ind_hip_fin_ult1 ind_plan_fin_ult1  \\\n",
       "0  2015-01-12        0.0          6  ...                 0                 0   \n",
       "1  2012-08-10        0.0         35  ...                 0                 0   \n",
       "2  2012-08-10        0.0         35  ...                 0                 0   \n",
       "3  2012-08-10        0.0         35  ...                 0                 0   \n",
       "4  2012-08-10        0.0         35  ...                 0                 0   \n",
       "\n",
       "   ind_pres_fin_ult1 ind_reca_fin_ult1 ind_tjcr_fin_ult1 ind_valo_fin_ult1  \\\n",
       "0                  0                 0                 0                 0   \n",
       "1                  0                 0                 0                 0   \n",
       "2                  0                 0                 0                 0   \n",
       "3                  0                 0                 0                 0   \n",
       "4                  0                 0                 0                 0   \n",
       "\n",
       "  ind_viv_fin_ult1 ind_nomina_ult1 ind_nom_pens_ult1  ind_recibo_ult1  \n",
       "0                0             0.0               0.0                0  \n",
       "1                0             0.0               0.0                0  \n",
       "2                0             0.0               0.0                0  \n",
       "3                0             0.0               0.0                0  \n",
       "4                0             0.0               0.0                0  \n",
       "\n",
       "[5 rows x 48 columns]"
      ]
     },
     "execution_count": 2,
     "metadata": {},
     "output_type": "execute_result"
    }
   ],
   "source": [
    "cust_seg_df = pd.read_csv(\"cust_seg.csv\")\n",
    "cust_seg_df = cust_seg_df.copy()\n",
    "cust_seg_df.head()"
   ]
  },
  {
   "cell_type": "code",
   "execution_count": 3,
   "id": "f63bfe3d",
   "metadata": {},
   "outputs": [
    {
     "data": {
      "text/plain": [
       "(1000000, 48)"
      ]
     },
     "execution_count": 3,
     "metadata": {},
     "output_type": "execute_result"
    }
   ],
   "source": [
    "cust_seg_df.shape"
   ]
  },
  {
   "cell_type": "code",
   "execution_count": 4,
   "id": "56919dd5",
   "metadata": {},
   "outputs": [
    {
     "name": "stdout",
     "output_type": "stream",
     "text": [
      "<class 'pandas.core.frame.DataFrame'>\n",
      "RangeIndex: 1000000 entries, 0 to 999999\n",
      "Data columns (total 48 columns):\n",
      " #   Column                 Non-Null Count    Dtype  \n",
      "---  ------                 --------------    -----  \n",
      " 0   Unnamed: 0             1000000 non-null  int64  \n",
      " 1   fecha_dato             1000000 non-null  object \n",
      " 2   ncodpers               1000000 non-null  int64  \n",
      " 3   ind_empleado           989218 non-null   object \n",
      " 4   pais_residencia        989218 non-null   object \n",
      " 5   sexo                   989214 non-null   object \n",
      " 6   age                    1000000 non-null  object \n",
      " 7   fecha_alta             989218 non-null   object \n",
      " 8   ind_nuevo              989218 non-null   float64\n",
      " 9   antiguedad             1000000 non-null  object \n",
      " 10  indrel                 989218 non-null   float64\n",
      " 11  ult_fec_cli_1t         1101 non-null     object \n",
      " 12  indrel_1mes            989218 non-null   float64\n",
      " 13  tiprel_1mes            989218 non-null   object \n",
      " 14  indresi                989218 non-null   object \n",
      " 15  indext                 989218 non-null   object \n",
      " 16  conyuemp               178 non-null      object \n",
      " 17  canal_entrada          989139 non-null   object \n",
      " 18  indfall                989218 non-null   object \n",
      " 19  tipodom                989218 non-null   float64\n",
      " 20  cod_prov               982266 non-null   float64\n",
      " 21  nomprov                982266 non-null   object \n",
      " 22  ind_actividad_cliente  989218 non-null   float64\n",
      " 23  renta                  824817 non-null   float64\n",
      " 24  ind_ahor_fin_ult1      1000000 non-null  int64  \n",
      " 25  ind_aval_fin_ult1      1000000 non-null  int64  \n",
      " 26  ind_cco_fin_ult1       1000000 non-null  int64  \n",
      " 27  ind_cder_fin_ult1      1000000 non-null  int64  \n",
      " 28  ind_cno_fin_ult1       1000000 non-null  int64  \n",
      " 29  ind_ctju_fin_ult1      1000000 non-null  int64  \n",
      " 30  ind_ctma_fin_ult1      1000000 non-null  int64  \n",
      " 31  ind_ctop_fin_ult1      1000000 non-null  int64  \n",
      " 32  ind_ctpp_fin_ult1      1000000 non-null  int64  \n",
      " 33  ind_deco_fin_ult1      1000000 non-null  int64  \n",
      " 34  ind_deme_fin_ult1      1000000 non-null  int64  \n",
      " 35  ind_dela_fin_ult1      1000000 non-null  int64  \n",
      " 36  ind_ecue_fin_ult1      1000000 non-null  int64  \n",
      " 37  ind_fond_fin_ult1      1000000 non-null  int64  \n",
      " 38  ind_hip_fin_ult1       1000000 non-null  int64  \n",
      " 39  ind_plan_fin_ult1      1000000 non-null  int64  \n",
      " 40  ind_pres_fin_ult1      1000000 non-null  int64  \n",
      " 41  ind_reca_fin_ult1      1000000 non-null  int64  \n",
      " 42  ind_tjcr_fin_ult1      1000000 non-null  int64  \n",
      " 43  ind_valo_fin_ult1      1000000 non-null  int64  \n",
      " 44  ind_viv_fin_ult1       1000000 non-null  int64  \n",
      " 45  ind_nomina_ult1        994598 non-null   float64\n",
      " 46  ind_nom_pens_ult1      994598 non-null   float64\n",
      " 47  ind_recibo_ult1        1000000 non-null  int64  \n",
      "dtypes: float64(9), int64(24), object(15)\n",
      "memory usage: 366.2+ MB\n"
     ]
    }
   ],
   "source": [
    "cust_seg_df.info()"
   ]
  },
  {
   "cell_type": "code",
   "execution_count": 5,
   "id": "f3cdc6a7",
   "metadata": {},
   "outputs": [
    {
     "data": {
      "text/html": [
       "<div>\n",
       "<style scoped>\n",
       "    .dataframe tbody tr th:only-of-type {\n",
       "        vertical-align: middle;\n",
       "    }\n",
       "\n",
       "    .dataframe tbody tr th {\n",
       "        vertical-align: top;\n",
       "    }\n",
       "\n",
       "    .dataframe thead th {\n",
       "        text-align: right;\n",
       "    }\n",
       "</style>\n",
       "<table border=\"1\" class=\"dataframe\">\n",
       "  <thead>\n",
       "    <tr style=\"text-align: right;\">\n",
       "      <th></th>\n",
       "      <th>Unnamed: 0</th>\n",
       "      <th>date</th>\n",
       "      <th>customer_id</th>\n",
       "      <th>employee_index</th>\n",
       "      <th>customer_country_residence</th>\n",
       "      <th>customer_gender</th>\n",
       "      <th>age</th>\n",
       "      <th>customer_date_of_entry_into_the_bank</th>\n",
       "      <th>new_customer_index</th>\n",
       "      <th>customer_seniority</th>\n",
       "      <th>...</th>\n",
       "      <th>mortgage</th>\n",
       "      <th>last_pensions</th>\n",
       "      <th>loans</th>\n",
       "      <th>taxes</th>\n",
       "      <th>credit_card</th>\n",
       "      <th>securities</th>\n",
       "      <th>home_account</th>\n",
       "      <th>payroll</th>\n",
       "      <th>pensions</th>\n",
       "      <th>direct_debit</th>\n",
       "    </tr>\n",
       "  </thead>\n",
       "  <tbody>\n",
       "    <tr>\n",
       "      <th>0</th>\n",
       "      <td>0</td>\n",
       "      <td>2015-01-28</td>\n",
       "      <td>1375586</td>\n",
       "      <td>N</td>\n",
       "      <td>ES</td>\n",
       "      <td>H</td>\n",
       "      <td>35</td>\n",
       "      <td>2015-01-12</td>\n",
       "      <td>0.0</td>\n",
       "      <td>6</td>\n",
       "      <td>...</td>\n",
       "      <td>0</td>\n",
       "      <td>0</td>\n",
       "      <td>0</td>\n",
       "      <td>0</td>\n",
       "      <td>0</td>\n",
       "      <td>0</td>\n",
       "      <td>0</td>\n",
       "      <td>0.0</td>\n",
       "      <td>0.0</td>\n",
       "      <td>0</td>\n",
       "    </tr>\n",
       "    <tr>\n",
       "      <th>1</th>\n",
       "      <td>1</td>\n",
       "      <td>2015-01-28</td>\n",
       "      <td>1050611</td>\n",
       "      <td>N</td>\n",
       "      <td>ES</td>\n",
       "      <td>V</td>\n",
       "      <td>23</td>\n",
       "      <td>2012-08-10</td>\n",
       "      <td>0.0</td>\n",
       "      <td>35</td>\n",
       "      <td>...</td>\n",
       "      <td>0</td>\n",
       "      <td>0</td>\n",
       "      <td>0</td>\n",
       "      <td>0</td>\n",
       "      <td>0</td>\n",
       "      <td>0</td>\n",
       "      <td>0</td>\n",
       "      <td>0.0</td>\n",
       "      <td>0.0</td>\n",
       "      <td>0</td>\n",
       "    </tr>\n",
       "    <tr>\n",
       "      <th>2</th>\n",
       "      <td>2</td>\n",
       "      <td>2015-01-28</td>\n",
       "      <td>1050612</td>\n",
       "      <td>N</td>\n",
       "      <td>ES</td>\n",
       "      <td>V</td>\n",
       "      <td>23</td>\n",
       "      <td>2012-08-10</td>\n",
       "      <td>0.0</td>\n",
       "      <td>35</td>\n",
       "      <td>...</td>\n",
       "      <td>0</td>\n",
       "      <td>0</td>\n",
       "      <td>0</td>\n",
       "      <td>0</td>\n",
       "      <td>0</td>\n",
       "      <td>0</td>\n",
       "      <td>0</td>\n",
       "      <td>0.0</td>\n",
       "      <td>0.0</td>\n",
       "      <td>0</td>\n",
       "    </tr>\n",
       "    <tr>\n",
       "      <th>3</th>\n",
       "      <td>3</td>\n",
       "      <td>2015-01-28</td>\n",
       "      <td>1050613</td>\n",
       "      <td>N</td>\n",
       "      <td>ES</td>\n",
       "      <td>H</td>\n",
       "      <td>22</td>\n",
       "      <td>2012-08-10</td>\n",
       "      <td>0.0</td>\n",
       "      <td>35</td>\n",
       "      <td>...</td>\n",
       "      <td>0</td>\n",
       "      <td>0</td>\n",
       "      <td>0</td>\n",
       "      <td>0</td>\n",
       "      <td>0</td>\n",
       "      <td>0</td>\n",
       "      <td>0</td>\n",
       "      <td>0.0</td>\n",
       "      <td>0.0</td>\n",
       "      <td>0</td>\n",
       "    </tr>\n",
       "    <tr>\n",
       "      <th>4</th>\n",
       "      <td>4</td>\n",
       "      <td>2015-01-28</td>\n",
       "      <td>1050614</td>\n",
       "      <td>N</td>\n",
       "      <td>ES</td>\n",
       "      <td>V</td>\n",
       "      <td>23</td>\n",
       "      <td>2012-08-10</td>\n",
       "      <td>0.0</td>\n",
       "      <td>35</td>\n",
       "      <td>...</td>\n",
       "      <td>0</td>\n",
       "      <td>0</td>\n",
       "      <td>0</td>\n",
       "      <td>0</td>\n",
       "      <td>0</td>\n",
       "      <td>0</td>\n",
       "      <td>0</td>\n",
       "      <td>0.0</td>\n",
       "      <td>0.0</td>\n",
       "      <td>0</td>\n",
       "    </tr>\n",
       "  </tbody>\n",
       "</table>\n",
       "<p>5 rows × 48 columns</p>\n",
       "</div>"
      ],
      "text/plain": [
       "   Unnamed: 0        date  customer_id employee_index  \\\n",
       "0           0  2015-01-28      1375586              N   \n",
       "1           1  2015-01-28      1050611              N   \n",
       "2           2  2015-01-28      1050612              N   \n",
       "3           3  2015-01-28      1050613              N   \n",
       "4           4  2015-01-28      1050614              N   \n",
       "\n",
       "  customer_country_residence customer_gender  age  \\\n",
       "0                         ES               H   35   \n",
       "1                         ES               V   23   \n",
       "2                         ES               V   23   \n",
       "3                         ES               H   22   \n",
       "4                         ES               V   23   \n",
       "\n",
       "  customer_date_of_entry_into_the_bank  new_customer_index customer_seniority  \\\n",
       "0                           2015-01-12                 0.0                  6   \n",
       "1                           2012-08-10                 0.0                 35   \n",
       "2                           2012-08-10                 0.0                 35   \n",
       "3                           2012-08-10                 0.0                 35   \n",
       "4                           2012-08-10                 0.0                 35   \n",
       "\n",
       "   ...  mortgage last_pensions  loans taxes credit_card securities  \\\n",
       "0  ...         0             0      0     0           0          0   \n",
       "1  ...         0             0      0     0           0          0   \n",
       "2  ...         0             0      0     0           0          0   \n",
       "3  ...         0             0      0     0           0          0   \n",
       "4  ...         0             0      0     0           0          0   \n",
       "\n",
       "  home_account payroll pensions  direct_debit  \n",
       "0            0     0.0      0.0             0  \n",
       "1            0     0.0      0.0             0  \n",
       "2            0     0.0      0.0             0  \n",
       "3            0     0.0      0.0             0  \n",
       "4            0     0.0      0.0             0  \n",
       "\n",
       "[5 rows x 48 columns]"
      ]
     },
     "execution_count": 5,
     "metadata": {},
     "output_type": "execute_result"
    }
   ],
   "source": [
    "cust_seg_df.rename(columns = {\"ind_recibo_ult1\" : \"direct_debit\",\n",
    "                              \"ind_nom_pens_ult1\" : \"pensions\",\n",
    "                              \"ind_nomina_ult1\" : \"payroll\",\n",
    "                              \"ind_viv_fin_ult1\" : \"home_account\",\n",
    "                              \"ind_valo_fin_ult1\" : \"securities\",\n",
    "                              \"ind_tjcr_fin_ult1\" : \"credit_card\",\n",
    "                              \"ind_reca_fin_ult1\" : \"taxes\",\n",
    "                              \"ind_pres_fin_ult1\" : \"loans\",\n",
    "                              \"ind_plan_fin_ult1\" : \"last_pensions\",\n",
    "                              \"ind_hip_fin_ult1\" : \"mortgage\",\n",
    "                              \"ind_fond_fin_ult1\" : \"funds\",\n",
    "                              \"ind_ecue_fin_ult1\" : \"e-account\",\n",
    "                              \"ind_dela_fin_ult1\" : \"long_term_deposits\",\n",
    "                              \"ind_deme_fin_ult1\" : \"medium_term_deposits\",\n",
    "                              \"ind_deco_fin_ult1\" : \"short_term_deposits\",\n",
    "                              \"ind_ctpp_fin_ult1\" : \"particular_plus_account\",\n",
    "                              \"ind_ctop_fin_ult1\" : \"particular_account\",\n",
    "                              \"ind_ctma_fin_ult1\" : \"mas_particular_account\",\n",
    "                              \"ind_ctju_fin_ult1\" : \"junior_account\",\n",
    "                              \"ind_cno_fin_ult1\" : \"payroll_account\",\n",
    "                              \"ind_cder_fin_ult1\": \"derivative_account\",\n",
    "                              \"ind_cco_fin_ult1\" : \"current_account\",\n",
    "                              \"ind_aval_fin_ult1\" : \"guarantees\",\n",
    "                              \"ind_ahor_fin_ult1\" : \"saving_account\",\n",
    "                              \"renta\": \"gross_income_of_the_household\",\n",
    "                              \"ind_actividad_cliente\" : \"activity_index\",\n",
    "                              \"nomprov\" : \"province_name\",\n",
    "                              \"cod_prov\" : \"province_code\",\n",
    "                              \"tipodom\" : \"address_type\",\n",
    "                              \"indfall\" : \"deceased_index_(N/S)\",\n",
    "                              \"canal_entrada\" : \"type_of_channel\",\n",
    "                              \"conyuemp\" : \"spouse_index\",\n",
    "                              \"indext\" : \"foreign_index\",\n",
    "                              \"indresi\" : \"residence_index\",\n",
    "                              \"tiprel_1mes\" : \"customer_relation_type_at_the_beginning_of_the_month\",\n",
    "                              \"indrel_1mes\" :\"customer_type_at_the_beginning_of_the_month\",\n",
    "                              \"ult_fec_cli_1t\" : \"last_date_as_primary_customer\",\n",
    "                              \"indrel\" : \"first/primary_customer\",\n",
    "                              \"antiguedad\" : \"customer_seniority\",\n",
    "                              \"ind_nuevo\" : \"new_customer_index\",\n",
    "                              \"fecha_alta\" : \"customer_date_of_entry_into_the_bank\",\n",
    "                              \"sexo\" : \"customer_gender\",\n",
    "                              \"pais_residencia\" : \"customer_country_residence\",\n",
    "                              \"ind_empleado\" : \"employee_index\",\n",
    "                              \"ncodpers\" : \"customer_id\",\n",
    "                              \"fecha_dato\" : \"date\"}, inplace = True)\n",
    "cust_seg_df.head()"
   ]
  },
  {
   "cell_type": "code",
   "execution_count": 6,
   "id": "59ed8ea5",
   "metadata": {},
   "outputs": [
    {
     "data": {
      "text/html": [
       "<div>\n",
       "<style scoped>\n",
       "    .dataframe tbody tr th:only-of-type {\n",
       "        vertical-align: middle;\n",
       "    }\n",
       "\n",
       "    .dataframe tbody tr th {\n",
       "        vertical-align: top;\n",
       "    }\n",
       "\n",
       "    .dataframe thead th {\n",
       "        text-align: right;\n",
       "    }\n",
       "</style>\n",
       "<table border=\"1\" class=\"dataframe\">\n",
       "  <thead>\n",
       "    <tr style=\"text-align: right;\">\n",
       "      <th></th>\n",
       "      <th>date</th>\n",
       "      <th>customer_id</th>\n",
       "      <th>employee_index</th>\n",
       "      <th>customer_country_residence</th>\n",
       "      <th>customer_gender</th>\n",
       "      <th>age</th>\n",
       "      <th>customer_date_of_entry_into_the_bank</th>\n",
       "      <th>new_customer_index</th>\n",
       "      <th>customer_seniority</th>\n",
       "      <th>first/primary_customer</th>\n",
       "      <th>...</th>\n",
       "      <th>mortgage</th>\n",
       "      <th>last_pensions</th>\n",
       "      <th>loans</th>\n",
       "      <th>taxes</th>\n",
       "      <th>credit_card</th>\n",
       "      <th>securities</th>\n",
       "      <th>home_account</th>\n",
       "      <th>payroll</th>\n",
       "      <th>pensions</th>\n",
       "      <th>direct_debit</th>\n",
       "    </tr>\n",
       "  </thead>\n",
       "  <tbody>\n",
       "    <tr>\n",
       "      <th>0</th>\n",
       "      <td>2015-01-28</td>\n",
       "      <td>1375586</td>\n",
       "      <td>N</td>\n",
       "      <td>ES</td>\n",
       "      <td>H</td>\n",
       "      <td>35</td>\n",
       "      <td>2015-01-12</td>\n",
       "      <td>0.0</td>\n",
       "      <td>6</td>\n",
       "      <td>1.0</td>\n",
       "      <td>...</td>\n",
       "      <td>0</td>\n",
       "      <td>0</td>\n",
       "      <td>0</td>\n",
       "      <td>0</td>\n",
       "      <td>0</td>\n",
       "      <td>0</td>\n",
       "      <td>0</td>\n",
       "      <td>0.0</td>\n",
       "      <td>0.0</td>\n",
       "      <td>0</td>\n",
       "    </tr>\n",
       "    <tr>\n",
       "      <th>1</th>\n",
       "      <td>2015-01-28</td>\n",
       "      <td>1050611</td>\n",
       "      <td>N</td>\n",
       "      <td>ES</td>\n",
       "      <td>V</td>\n",
       "      <td>23</td>\n",
       "      <td>2012-08-10</td>\n",
       "      <td>0.0</td>\n",
       "      <td>35</td>\n",
       "      <td>1.0</td>\n",
       "      <td>...</td>\n",
       "      <td>0</td>\n",
       "      <td>0</td>\n",
       "      <td>0</td>\n",
       "      <td>0</td>\n",
       "      <td>0</td>\n",
       "      <td>0</td>\n",
       "      <td>0</td>\n",
       "      <td>0.0</td>\n",
       "      <td>0.0</td>\n",
       "      <td>0</td>\n",
       "    </tr>\n",
       "    <tr>\n",
       "      <th>2</th>\n",
       "      <td>2015-01-28</td>\n",
       "      <td>1050612</td>\n",
       "      <td>N</td>\n",
       "      <td>ES</td>\n",
       "      <td>V</td>\n",
       "      <td>23</td>\n",
       "      <td>2012-08-10</td>\n",
       "      <td>0.0</td>\n",
       "      <td>35</td>\n",
       "      <td>1.0</td>\n",
       "      <td>...</td>\n",
       "      <td>0</td>\n",
       "      <td>0</td>\n",
       "      <td>0</td>\n",
       "      <td>0</td>\n",
       "      <td>0</td>\n",
       "      <td>0</td>\n",
       "      <td>0</td>\n",
       "      <td>0.0</td>\n",
       "      <td>0.0</td>\n",
       "      <td>0</td>\n",
       "    </tr>\n",
       "    <tr>\n",
       "      <th>3</th>\n",
       "      <td>2015-01-28</td>\n",
       "      <td>1050613</td>\n",
       "      <td>N</td>\n",
       "      <td>ES</td>\n",
       "      <td>H</td>\n",
       "      <td>22</td>\n",
       "      <td>2012-08-10</td>\n",
       "      <td>0.0</td>\n",
       "      <td>35</td>\n",
       "      <td>1.0</td>\n",
       "      <td>...</td>\n",
       "      <td>0</td>\n",
       "      <td>0</td>\n",
       "      <td>0</td>\n",
       "      <td>0</td>\n",
       "      <td>0</td>\n",
       "      <td>0</td>\n",
       "      <td>0</td>\n",
       "      <td>0.0</td>\n",
       "      <td>0.0</td>\n",
       "      <td>0</td>\n",
       "    </tr>\n",
       "    <tr>\n",
       "      <th>4</th>\n",
       "      <td>2015-01-28</td>\n",
       "      <td>1050614</td>\n",
       "      <td>N</td>\n",
       "      <td>ES</td>\n",
       "      <td>V</td>\n",
       "      <td>23</td>\n",
       "      <td>2012-08-10</td>\n",
       "      <td>0.0</td>\n",
       "      <td>35</td>\n",
       "      <td>1.0</td>\n",
       "      <td>...</td>\n",
       "      <td>0</td>\n",
       "      <td>0</td>\n",
       "      <td>0</td>\n",
       "      <td>0</td>\n",
       "      <td>0</td>\n",
       "      <td>0</td>\n",
       "      <td>0</td>\n",
       "      <td>0.0</td>\n",
       "      <td>0.0</td>\n",
       "      <td>0</td>\n",
       "    </tr>\n",
       "  </tbody>\n",
       "</table>\n",
       "<p>5 rows × 47 columns</p>\n",
       "</div>"
      ],
      "text/plain": [
       "         date  customer_id employee_index customer_country_residence  \\\n",
       "0  2015-01-28      1375586              N                         ES   \n",
       "1  2015-01-28      1050611              N                         ES   \n",
       "2  2015-01-28      1050612              N                         ES   \n",
       "3  2015-01-28      1050613              N                         ES   \n",
       "4  2015-01-28      1050614              N                         ES   \n",
       "\n",
       "  customer_gender  age customer_date_of_entry_into_the_bank  \\\n",
       "0               H   35                           2015-01-12   \n",
       "1               V   23                           2012-08-10   \n",
       "2               V   23                           2012-08-10   \n",
       "3               H   22                           2012-08-10   \n",
       "4               V   23                           2012-08-10   \n",
       "\n",
       "   new_customer_index customer_seniority  first/primary_customer  ...  \\\n",
       "0                 0.0                  6                     1.0  ...   \n",
       "1                 0.0                 35                     1.0  ...   \n",
       "2                 0.0                 35                     1.0  ...   \n",
       "3                 0.0                 35                     1.0  ...   \n",
       "4                 0.0                 35                     1.0  ...   \n",
       "\n",
       "  mortgage  last_pensions loans taxes credit_card securities home_account  \\\n",
       "0        0              0     0     0           0          0            0   \n",
       "1        0              0     0     0           0          0            0   \n",
       "2        0              0     0     0           0          0            0   \n",
       "3        0              0     0     0           0          0            0   \n",
       "4        0              0     0     0           0          0            0   \n",
       "\n",
       "  payroll  pensions  direct_debit  \n",
       "0     0.0       0.0             0  \n",
       "1     0.0       0.0             0  \n",
       "2     0.0       0.0             0  \n",
       "3     0.0       0.0             0  \n",
       "4     0.0       0.0             0  \n",
       "\n",
       "[5 rows x 47 columns]"
      ]
     },
     "execution_count": 6,
     "metadata": {},
     "output_type": "execute_result"
    }
   ],
   "source": [
    "cust_seg_df = cust_seg_df.drop(\"Unnamed: 0\", axis=1)\n",
    "cust_seg_df.head()"
   ]
  },
  {
   "cell_type": "code",
   "execution_count": 7,
   "id": "c8373979",
   "metadata": {},
   "outputs": [
    {
     "name": "stdout",
     "output_type": "stream",
     "text": [
      "<class 'pandas.core.frame.DataFrame'>\n",
      "RangeIndex: 1000000 entries, 0 to 999999\n",
      "Data columns (total 47 columns):\n",
      " #   Column                                                Non-Null Count    Dtype  \n",
      "---  ------                                                --------------    -----  \n",
      " 0   date                                                  1000000 non-null  object \n",
      " 1   customer_id                                           1000000 non-null  int64  \n",
      " 2   employee_index                                        989218 non-null   object \n",
      " 3   customer_country_residence                            989218 non-null   object \n",
      " 4   customer_gender                                       989214 non-null   object \n",
      " 5   age                                                   1000000 non-null  object \n",
      " 6   customer_date_of_entry_into_the_bank                  989218 non-null   object \n",
      " 7   new_customer_index                                    989218 non-null   float64\n",
      " 8   customer_seniority                                    1000000 non-null  object \n",
      " 9   first/primary_customer                                989218 non-null   float64\n",
      " 10  last_date_as_primary_customer                         1101 non-null     object \n",
      " 11  customer_type_at_the_beginning_of_the_month           989218 non-null   float64\n",
      " 12  customer_relation_type_at_the_beginning_of_the_month  989218 non-null   object \n",
      " 13  residence_index                                       989218 non-null   object \n",
      " 14  foreign_index                                         989218 non-null   object \n",
      " 15  spouse_index                                          178 non-null      object \n",
      " 16  type_of_channel                                       989139 non-null   object \n",
      " 17  deceased_index_(N/S)                                  989218 non-null   object \n",
      " 18  address_type                                          989218 non-null   float64\n",
      " 19  province_code                                         982266 non-null   float64\n",
      " 20  province_name                                         982266 non-null   object \n",
      " 21  activity_index                                        989218 non-null   float64\n",
      " 22  gross_income_of_the_household                         824817 non-null   float64\n",
      " 23  saving_account                                        1000000 non-null  int64  \n",
      " 24  guarantees                                            1000000 non-null  int64  \n",
      " 25  current_account                                       1000000 non-null  int64  \n",
      " 26  derivative_account                                    1000000 non-null  int64  \n",
      " 27  payroll_account                                       1000000 non-null  int64  \n",
      " 28  junior_account                                        1000000 non-null  int64  \n",
      " 29  mas_particular_account                                1000000 non-null  int64  \n",
      " 30  particular_account                                    1000000 non-null  int64  \n",
      " 31  particular_plus_account                               1000000 non-null  int64  \n",
      " 32  short_term_deposits                                   1000000 non-null  int64  \n",
      " 33  medium_term_deposits                                  1000000 non-null  int64  \n",
      " 34  long_term_deposits                                    1000000 non-null  int64  \n",
      " 35  e-account                                             1000000 non-null  int64  \n",
      " 36  funds                                                 1000000 non-null  int64  \n",
      " 37  mortgage                                              1000000 non-null  int64  \n",
      " 38  last_pensions                                         1000000 non-null  int64  \n",
      " 39  loans                                                 1000000 non-null  int64  \n",
      " 40  taxes                                                 1000000 non-null  int64  \n",
      " 41  credit_card                                           1000000 non-null  int64  \n",
      " 42  securities                                            1000000 non-null  int64  \n",
      " 43  home_account                                          1000000 non-null  int64  \n",
      " 44  payroll                                               994598 non-null   float64\n",
      " 45  pensions                                              994598 non-null   float64\n",
      " 46  direct_debit                                          1000000 non-null  int64  \n",
      "dtypes: float64(9), int64(23), object(15)\n",
      "memory usage: 358.6+ MB\n"
     ]
    }
   ],
   "source": [
    "cust_seg_df.info() "
   ]
  },
  {
   "cell_type": "code",
   "execution_count": 8,
   "id": "b6c3824e",
   "metadata": {},
   "outputs": [
    {
     "data": {
      "text/plain": [
       "Index(['date', 'customer_id', 'employee_index', 'customer_country_residence',\n",
       "       'customer_gender', 'age', 'customer_date_of_entry_into_the_bank',\n",
       "       'new_customer_index', 'customer_seniority', 'first/primary_customer',\n",
       "       'last_date_as_primary_customer',\n",
       "       'customer_type_at_the_beginning_of_the_month',\n",
       "       'customer_relation_type_at_the_beginning_of_the_month',\n",
       "       'residence_index', 'foreign_index', 'spouse_index', 'type_of_channel',\n",
       "       'deceased_index_(N/S)', 'address_type', 'province_code',\n",
       "       'province_name', 'activity_index', 'gross_income_of_the_household',\n",
       "       'saving_account', 'guarantees', 'current_account', 'derivative_account',\n",
       "       'payroll_account', 'junior_account', 'mas_particular_account',\n",
       "       'particular_account', 'particular_plus_account', 'short_term_deposits',\n",
       "       'medium_term_deposits', 'long_term_deposits', 'e-account', 'funds',\n",
       "       'mortgage', 'last_pensions', 'loans', 'taxes', 'credit_card',\n",
       "       'securities', 'home_account', 'payroll', 'pensions', 'direct_debit'],\n",
       "      dtype='object')"
      ]
     },
     "execution_count": 8,
     "metadata": {},
     "output_type": "execute_result"
    }
   ],
   "source": [
    "cust_seg_df.columns"
   ]
  },
  {
   "cell_type": "code",
   "execution_count": 9,
   "id": "bef17ec7",
   "metadata": {},
   "outputs": [
    {
     "data": {
      "text/plain": [
       "RangeIndex(start=0, stop=1000000, step=1)"
      ]
     },
     "execution_count": 9,
     "metadata": {},
     "output_type": "execute_result"
    }
   ],
   "source": [
    "cust_seg_df.index"
   ]
  },
  {
   "cell_type": "code",
   "execution_count": 10,
   "id": "49502a97",
   "metadata": {},
   "outputs": [
    {
     "data": {
      "text/plain": [
       "array([['2015-01-28', 1375586, 'N', ..., 0.0, 0.0, 0],\n",
       "       ['2015-01-28', 1050611, 'N', ..., 0.0, 0.0, 0],\n",
       "       ['2015-01-28', 1050612, 'N', ..., 0.0, 0.0, 0],\n",
       "       ...,\n",
       "       ['2015-02-28', 1183294, 'N', ..., 0.0, 0.0, 1],\n",
       "       ['2015-02-28', 1183293, 'N', ..., 0.0, 0.0, 1],\n",
       "       ['2015-02-28', 1183289, 'N', ..., 0.0, 0.0, 1]], dtype=object)"
      ]
     },
     "execution_count": 10,
     "metadata": {},
     "output_type": "execute_result"
    }
   ],
   "source": [
    "cust_seg_df.values"
   ]
  },
  {
   "cell_type": "code",
   "execution_count": 11,
   "id": "8bedbc28",
   "metadata": {},
   "outputs": [
    {
     "data": {
      "text/plain": [
       "date                                                         0\n",
       "customer_id                                                  0\n",
       "employee_index                                           10782\n",
       "customer_country_residence                               10782\n",
       "customer_gender                                          10786\n",
       "age                                                          0\n",
       "customer_date_of_entry_into_the_bank                     10782\n",
       "new_customer_index                                       10782\n",
       "customer_seniority                                           0\n",
       "first/primary_customer                                   10782\n",
       "last_date_as_primary_customer                           998899\n",
       "customer_type_at_the_beginning_of_the_month              10782\n",
       "customer_relation_type_at_the_beginning_of_the_month     10782\n",
       "residence_index                                          10782\n",
       "foreign_index                                            10782\n",
       "spouse_index                                            999822\n",
       "type_of_channel                                          10861\n",
       "deceased_index_(N/S)                                     10782\n",
       "address_type                                             10782\n",
       "province_code                                            17734\n",
       "province_name                                            17734\n",
       "activity_index                                           10782\n",
       "gross_income_of_the_household                           175183\n",
       "saving_account                                               0\n",
       "guarantees                                                   0\n",
       "current_account                                              0\n",
       "derivative_account                                           0\n",
       "payroll_account                                              0\n",
       "junior_account                                               0\n",
       "mas_particular_account                                       0\n",
       "particular_account                                           0\n",
       "particular_plus_account                                      0\n",
       "short_term_deposits                                          0\n",
       "medium_term_deposits                                         0\n",
       "long_term_deposits                                           0\n",
       "e-account                                                    0\n",
       "funds                                                        0\n",
       "mortgage                                                     0\n",
       "last_pensions                                                0\n",
       "loans                                                        0\n",
       "taxes                                                        0\n",
       "credit_card                                                  0\n",
       "securities                                                   0\n",
       "home_account                                                 0\n",
       "payroll                                                   5402\n",
       "pensions                                                  5402\n",
       "direct_debit                                                 0\n",
       "dtype: int64"
      ]
     },
     "execution_count": 11,
     "metadata": {},
     "output_type": "execute_result"
    }
   ],
   "source": [
    "cust_seg_df.isna().sum()"
   ]
  },
  {
   "cell_type": "markdown",
   "id": "50eff81d",
   "metadata": {},
   "source": [
    "last_date_as_primary_customer - 99.8899 \n",
    "\n",
    "spouse_index -  99.9822 \n",
    "\n",
    "These columns have been deleted because there were too many missing value."
   ]
  },
  {
   "cell_type": "code",
   "execution_count": 12,
   "id": "f825ef68",
   "metadata": {},
   "outputs": [],
   "source": [
    "cust_seg_df1 = cust_seg_df.drop([\"last_date_as_primary_customer\", \"spouse_index\"], axis=1)"
   ]
  },
  {
   "cell_type": "code",
   "execution_count": 13,
   "id": "1b417e4d",
   "metadata": {},
   "outputs": [
    {
     "data": {
      "text/html": [
       "<div>\n",
       "<style scoped>\n",
       "    .dataframe tbody tr th:only-of-type {\n",
       "        vertical-align: middle;\n",
       "    }\n",
       "\n",
       "    .dataframe tbody tr th {\n",
       "        vertical-align: top;\n",
       "    }\n",
       "\n",
       "    .dataframe thead th {\n",
       "        text-align: right;\n",
       "    }\n",
       "</style>\n",
       "<table border=\"1\" class=\"dataframe\">\n",
       "  <thead>\n",
       "    <tr style=\"text-align: right;\">\n",
       "      <th></th>\n",
       "      <th>date</th>\n",
       "      <th>customer_id</th>\n",
       "      <th>employee_index</th>\n",
       "      <th>customer_country_residence</th>\n",
       "      <th>customer_gender</th>\n",
       "      <th>age</th>\n",
       "      <th>customer_date_of_entry_into_the_bank</th>\n",
       "      <th>new_customer_index</th>\n",
       "      <th>customer_seniority</th>\n",
       "      <th>first/primary_customer</th>\n",
       "      <th>...</th>\n",
       "      <th>mortgage</th>\n",
       "      <th>last_pensions</th>\n",
       "      <th>loans</th>\n",
       "      <th>taxes</th>\n",
       "      <th>credit_card</th>\n",
       "      <th>securities</th>\n",
       "      <th>home_account</th>\n",
       "      <th>payroll</th>\n",
       "      <th>pensions</th>\n",
       "      <th>direct_debit</th>\n",
       "    </tr>\n",
       "  </thead>\n",
       "  <tbody>\n",
       "    <tr>\n",
       "      <th>0</th>\n",
       "      <td>2015-01-28</td>\n",
       "      <td>1375586</td>\n",
       "      <td>N</td>\n",
       "      <td>ES</td>\n",
       "      <td>H</td>\n",
       "      <td>35</td>\n",
       "      <td>2015-01-12</td>\n",
       "      <td>0.0</td>\n",
       "      <td>6</td>\n",
       "      <td>1.0</td>\n",
       "      <td>...</td>\n",
       "      <td>0</td>\n",
       "      <td>0</td>\n",
       "      <td>0</td>\n",
       "      <td>0</td>\n",
       "      <td>0</td>\n",
       "      <td>0</td>\n",
       "      <td>0</td>\n",
       "      <td>0.0</td>\n",
       "      <td>0.0</td>\n",
       "      <td>0</td>\n",
       "    </tr>\n",
       "    <tr>\n",
       "      <th>1</th>\n",
       "      <td>2015-01-28</td>\n",
       "      <td>1050611</td>\n",
       "      <td>N</td>\n",
       "      <td>ES</td>\n",
       "      <td>V</td>\n",
       "      <td>23</td>\n",
       "      <td>2012-08-10</td>\n",
       "      <td>0.0</td>\n",
       "      <td>35</td>\n",
       "      <td>1.0</td>\n",
       "      <td>...</td>\n",
       "      <td>0</td>\n",
       "      <td>0</td>\n",
       "      <td>0</td>\n",
       "      <td>0</td>\n",
       "      <td>0</td>\n",
       "      <td>0</td>\n",
       "      <td>0</td>\n",
       "      <td>0.0</td>\n",
       "      <td>0.0</td>\n",
       "      <td>0</td>\n",
       "    </tr>\n",
       "    <tr>\n",
       "      <th>2</th>\n",
       "      <td>2015-01-28</td>\n",
       "      <td>1050612</td>\n",
       "      <td>N</td>\n",
       "      <td>ES</td>\n",
       "      <td>V</td>\n",
       "      <td>23</td>\n",
       "      <td>2012-08-10</td>\n",
       "      <td>0.0</td>\n",
       "      <td>35</td>\n",
       "      <td>1.0</td>\n",
       "      <td>...</td>\n",
       "      <td>0</td>\n",
       "      <td>0</td>\n",
       "      <td>0</td>\n",
       "      <td>0</td>\n",
       "      <td>0</td>\n",
       "      <td>0</td>\n",
       "      <td>0</td>\n",
       "      <td>0.0</td>\n",
       "      <td>0.0</td>\n",
       "      <td>0</td>\n",
       "    </tr>\n",
       "    <tr>\n",
       "      <th>3</th>\n",
       "      <td>2015-01-28</td>\n",
       "      <td>1050613</td>\n",
       "      <td>N</td>\n",
       "      <td>ES</td>\n",
       "      <td>H</td>\n",
       "      <td>22</td>\n",
       "      <td>2012-08-10</td>\n",
       "      <td>0.0</td>\n",
       "      <td>35</td>\n",
       "      <td>1.0</td>\n",
       "      <td>...</td>\n",
       "      <td>0</td>\n",
       "      <td>0</td>\n",
       "      <td>0</td>\n",
       "      <td>0</td>\n",
       "      <td>0</td>\n",
       "      <td>0</td>\n",
       "      <td>0</td>\n",
       "      <td>0.0</td>\n",
       "      <td>0.0</td>\n",
       "      <td>0</td>\n",
       "    </tr>\n",
       "    <tr>\n",
       "      <th>4</th>\n",
       "      <td>2015-01-28</td>\n",
       "      <td>1050614</td>\n",
       "      <td>N</td>\n",
       "      <td>ES</td>\n",
       "      <td>V</td>\n",
       "      <td>23</td>\n",
       "      <td>2012-08-10</td>\n",
       "      <td>0.0</td>\n",
       "      <td>35</td>\n",
       "      <td>1.0</td>\n",
       "      <td>...</td>\n",
       "      <td>0</td>\n",
       "      <td>0</td>\n",
       "      <td>0</td>\n",
       "      <td>0</td>\n",
       "      <td>0</td>\n",
       "      <td>0</td>\n",
       "      <td>0</td>\n",
       "      <td>0.0</td>\n",
       "      <td>0.0</td>\n",
       "      <td>0</td>\n",
       "    </tr>\n",
       "  </tbody>\n",
       "</table>\n",
       "<p>5 rows × 45 columns</p>\n",
       "</div>"
      ],
      "text/plain": [
       "         date  customer_id employee_index customer_country_residence  \\\n",
       "0  2015-01-28      1375586              N                         ES   \n",
       "1  2015-01-28      1050611              N                         ES   \n",
       "2  2015-01-28      1050612              N                         ES   \n",
       "3  2015-01-28      1050613              N                         ES   \n",
       "4  2015-01-28      1050614              N                         ES   \n",
       "\n",
       "  customer_gender  age customer_date_of_entry_into_the_bank  \\\n",
       "0               H   35                           2015-01-12   \n",
       "1               V   23                           2012-08-10   \n",
       "2               V   23                           2012-08-10   \n",
       "3               H   22                           2012-08-10   \n",
       "4               V   23                           2012-08-10   \n",
       "\n",
       "   new_customer_index customer_seniority  first/primary_customer  ...  \\\n",
       "0                 0.0                  6                     1.0  ...   \n",
       "1                 0.0                 35                     1.0  ...   \n",
       "2                 0.0                 35                     1.0  ...   \n",
       "3                 0.0                 35                     1.0  ...   \n",
       "4                 0.0                 35                     1.0  ...   \n",
       "\n",
       "   mortgage last_pensions loans taxes credit_card securities  home_account  \\\n",
       "0         0             0     0     0           0          0             0   \n",
       "1         0             0     0     0           0          0             0   \n",
       "2         0             0     0     0           0          0             0   \n",
       "3         0             0     0     0           0          0             0   \n",
       "4         0             0     0     0           0          0             0   \n",
       "\n",
       "   payroll pensions  direct_debit  \n",
       "0      0.0      0.0             0  \n",
       "1      0.0      0.0             0  \n",
       "2      0.0      0.0             0  \n",
       "3      0.0      0.0             0  \n",
       "4      0.0      0.0             0  \n",
       "\n",
       "[5 rows x 45 columns]"
      ]
     },
     "execution_count": 13,
     "metadata": {},
     "output_type": "execute_result"
    }
   ],
   "source": [
    "cust_seg_df1.head()"
   ]
  },
  {
   "cell_type": "code",
   "execution_count": 14,
   "id": "547ce45e",
   "metadata": {},
   "outputs": [
    {
     "data": {
      "text/plain": [
       "15889      2\n",
       "15890      2\n",
       "15892      2\n",
       "15893      2\n",
       "15894      2\n",
       "          ..\n",
       "1379101    1\n",
       "1379126    1\n",
       "1379127    1\n",
       "1379128    1\n",
       "1379131    1\n",
       "Name: customer_id, Length: 626159, dtype: int64"
      ]
     },
     "execution_count": 14,
     "metadata": {},
     "output_type": "execute_result"
    }
   ],
   "source": [
    "cust_seg_df1[\"customer_id\"].value_counts().sort_index()"
   ]
  },
  {
   "cell_type": "code",
   "execution_count": 15,
   "id": "1611a136",
   "metadata": {},
   "outputs": [
    {
     "name": "stdout",
     "output_type": "stream",
     "text": [
      "              date  customer_id employee_index customer_country_residence  \\\n",
      "0       2015-01-28      1375586              N                         ES   \n",
      "1       2015-01-28      1050611              N                         ES   \n",
      "2       2015-01-28      1050612              N                         ES   \n",
      "3       2015-01-28      1050613              N                         ES   \n",
      "4       2015-01-28      1050614              N                         ES   \n",
      "...            ...          ...            ...                        ...   \n",
      "995329  2015-02-28      1149912            NaN                        NaN   \n",
      "995352  2015-02-28      1150060              N                         ES   \n",
      "995403  2015-02-28      1149999              N                         ES   \n",
      "996937  2015-02-28      1150908              N                         ES   \n",
      "999991  2015-02-28      1183305              N                         ES   \n",
      "\n",
      "       customer_gender  age customer_date_of_entry_into_the_bank  \\\n",
      "0                    H   35                           2015-01-12   \n",
      "1                    V   23                           2012-08-10   \n",
      "2                    V   23                           2012-08-10   \n",
      "3                    H   22                           2012-08-10   \n",
      "4                    V   23                           2012-08-10   \n",
      "...                ...  ...                                  ...   \n",
      "995329             NaN   NA                                  NaN   \n",
      "995352               H   23                           2013-07-29   \n",
      "995403               V   22                           2013-07-29   \n",
      "996937               V   22                           2013-07-30   \n",
      "999991               V   31                           2013-09-25   \n",
      "\n",
      "        new_customer_index customer_seniority  first/primary_customer  ...  \\\n",
      "0                      0.0                  6                     1.0  ...   \n",
      "1                      0.0                 35                     1.0  ...   \n",
      "2                      0.0                 35                     1.0  ...   \n",
      "3                      0.0                 35                     1.0  ...   \n",
      "4                      0.0                 35                     1.0  ...   \n",
      "...                    ...                ...                     ...  ...   \n",
      "995329                 NaN                 NA                     NaN  ...   \n",
      "995352                 0.0                 24                     1.0  ...   \n",
      "995403                 0.0                 24                     1.0  ...   \n",
      "996937                 0.0                 24                     1.0  ...   \n",
      "999991                 0.0                 22                     1.0  ...   \n",
      "\n",
      "        mortgage last_pensions loans taxes credit_card securities  \\\n",
      "0              0             0     0     0           0          0   \n",
      "1              0             0     0     0           0          0   \n",
      "2              0             0     0     0           0          0   \n",
      "3              0             0     0     0           0          0   \n",
      "4              0             0     0     0           0          0   \n",
      "...          ...           ...   ...   ...         ...        ...   \n",
      "995329         0             0     0     0           0          0   \n",
      "995352         0             0     0     0           0          0   \n",
      "995403         0             0     0     0           0          0   \n",
      "996937         0             0     0     0           0          0   \n",
      "999991         0             0     0     0           0          0   \n",
      "\n",
      "        home_account  payroll pensions  direct_debit  \n",
      "0                  0      0.0      0.0             0  \n",
      "1                  0      0.0      0.0             0  \n",
      "2                  0      0.0      0.0             0  \n",
      "3                  0      0.0      0.0             0  \n",
      "4                  0      0.0      0.0             0  \n",
      "...              ...      ...      ...           ...  \n",
      "995329             0      0.0      0.0             0  \n",
      "995352             0      0.0      0.0             0  \n",
      "995403             0      0.0      0.0             0  \n",
      "996937             0      0.0      0.0             0  \n",
      "999991             0      0.0      0.0             0  \n",
      "\n",
      "[626159 rows x 45 columns]\n"
     ]
    }
   ],
   "source": [
    "cust_seg_df1.drop_duplicates(subset = \"customer_id\", keep = 'first',  inplace = True)\n",
    "print(cust_seg_df1)"
   ]
  },
  {
   "cell_type": "markdown",
   "id": "236b1f8f",
   "metadata": {},
   "source": [
    "Duplicate customer codes have been destroyed."
   ]
  },
  {
   "cell_type": "code",
   "execution_count": 16,
   "id": "a1511d83",
   "metadata": {},
   "outputs": [
    {
     "data": {
      "text/plain": [
       "0.8415789315848247"
      ]
     },
     "execution_count": 16,
     "metadata": {},
     "output_type": "execute_result"
    }
   ],
   "source": [
    "missing_values_count = cust_seg_df1.isnull().sum()\n",
    "#Let's see how many missing data we have in total.\n",
    "total_cells = np.product(cust_seg_df1.shape)\n",
    "total_missing = missing_values_count.sum()\n",
    "#Let's see how much the missing data is as a percentage (%)\n",
    "(total_missing/total_cells) * 100"
   ]
  },
  {
   "cell_type": "code",
   "execution_count": 17,
   "id": "6112954d",
   "metadata": {},
   "outputs": [],
   "source": [
    "df = cust_seg_df1.copy()"
   ]
  },
  {
   "cell_type": "code",
   "execution_count": 18,
   "id": "26275f57",
   "metadata": {},
   "outputs": [],
   "source": [
    "df[\"age\"]   = pd.to_numeric(df[\"age\"], errors=\"coerce\") \n",
    "df[\"customer_seniority\"]   = pd.to_numeric(df[\"customer_seniority\"], errors=\"coerce\") "
   ]
  },
  {
   "cell_type": "code",
   "execution_count": 19,
   "id": "dc9906ee",
   "metadata": {},
   "outputs": [
    {
     "name": "stdout",
     "output_type": "stream",
     "text": [
      "<class 'pandas.core.frame.DataFrame'>\n",
      "Int64Index: 626159 entries, 0 to 999991\n",
      "Data columns (total 45 columns):\n",
      " #   Column                                                Non-Null Count   Dtype  \n",
      "---  ------                                                --------------   -----  \n",
      " 0   date                                                  626159 non-null  object \n",
      " 1   customer_id                                           626159 non-null  int64  \n",
      " 2   employee_index                                        619174 non-null  object \n",
      " 3   customer_country_residence                            619174 non-null  object \n",
      " 4   customer_gender                                       619172 non-null  object \n",
      " 5   age                                                   619174 non-null  float64\n",
      " 6   customer_date_of_entry_into_the_bank                  619174 non-null  object \n",
      " 7   new_customer_index                                    619174 non-null  float64\n",
      " 8   customer_seniority                                    619174 non-null  float64\n",
      " 9   first/primary_customer                                619174 non-null  float64\n",
      " 10  customer_type_at_the_beginning_of_the_month           619174 non-null  float64\n",
      " 11  customer_relation_type_at_the_beginning_of_the_month  619174 non-null  object \n",
      " 12  residence_index                                       619174 non-null  object \n",
      " 13  foreign_index                                         619174 non-null  object \n",
      " 14  type_of_channel                                       619123 non-null  object \n",
      " 15  deceased_index_(N/S)                                  619174 non-null  object \n",
      " 16  address_type                                          619174 non-null  float64\n",
      " 17  province_code                                         615492 non-null  float64\n",
      " 18  province_name                                         615492 non-null  object \n",
      " 19  activity_index                                        619174 non-null  float64\n",
      " 20  gross_income_of_the_household                         514443 non-null  float64\n",
      " 21  saving_account                                        626159 non-null  int64  \n",
      " 22  guarantees                                            626159 non-null  int64  \n",
      " 23  current_account                                       626159 non-null  int64  \n",
      " 24  derivative_account                                    626159 non-null  int64  \n",
      " 25  payroll_account                                       626159 non-null  int64  \n",
      " 26  junior_account                                        626159 non-null  int64  \n",
      " 27  mas_particular_account                                626159 non-null  int64  \n",
      " 28  particular_account                                    626159 non-null  int64  \n",
      " 29  particular_plus_account                               626159 non-null  int64  \n",
      " 30  short_term_deposits                                   626159 non-null  int64  \n",
      " 31  medium_term_deposits                                  626159 non-null  int64  \n",
      " 32  long_term_deposits                                    626159 non-null  int64  \n",
      " 33  e-account                                             626159 non-null  int64  \n",
      " 34  funds                                                 626159 non-null  int64  \n",
      " 35  mortgage                                              626159 non-null  int64  \n",
      " 36  last_pensions                                         626159 non-null  int64  \n",
      " 37  loans                                                 626159 non-null  int64  \n",
      " 38  taxes                                                 626159 non-null  int64  \n",
      " 39  credit_card                                           626159 non-null  int64  \n",
      " 40  securities                                            626159 non-null  int64  \n",
      " 41  home_account                                          626159 non-null  int64  \n",
      " 42  payroll                                               623039 non-null  float64\n",
      " 43  pensions                                              623039 non-null  float64\n",
      " 44  direct_debit                                          626159 non-null  int64  \n",
      "dtypes: float64(11), int64(23), object(11)\n",
      "memory usage: 219.8+ MB\n"
     ]
    }
   ],
   "source": [
    "df.info()"
   ]
  },
  {
   "cell_type": "code",
   "execution_count": 20,
   "id": "cfbe2050",
   "metadata": {},
   "outputs": [
    {
     "name": "stdout",
     "output_type": "stream",
     "text": [
      "Unique values in each categorical column:\n",
      "date : ['2015-01-28' '2015-02-28']\n",
      "employee_index : ['N' nan 'A' 'B' 'F' 'S']\n",
      "customer_country_residence : ['ES' nan 'CA' 'CH' 'CL' 'IE' 'AT' 'NL' 'FR' 'GB' 'DE' 'DO' 'BE' 'AR' 'VE'\n",
      " 'US' 'MX' 'BR' 'IT' 'EC' 'PE' 'CO' 'HN' 'FI' 'SE' 'AL' 'PT' 'MZ' 'CN'\n",
      " 'TW' 'PL' 'IN' 'CR' 'NI' 'HK' 'AD' 'CZ' 'AE' 'MA' 'GR' 'PR' 'RO' 'IL'\n",
      " 'RU' 'GT' 'GA' 'NO' 'SN' 'MR' 'UA' 'BG' 'PY' 'EE' 'SV' 'ET' 'CM' 'SA'\n",
      " 'CI' 'QA' 'LU' 'PA' 'BA' 'BO' 'AU' 'BY' 'KE' 'SG' 'HR' 'MD' 'SK' 'TR'\n",
      " 'AO' 'CU' 'GQ' 'EG' 'ZA' 'DK' 'UY' 'GE' 'TH' 'DZ' 'LB' 'JP' 'NG' 'PK'\n",
      " 'TN' 'TG' 'KR' 'GH' 'RS' 'VN' 'PH' 'KW' 'NZ' 'MM' 'KH' 'GI' 'SL' 'GN'\n",
      " 'GW' 'OM' 'CG' 'LV' 'LT' 'ML' 'MK' 'HU' 'IS' 'LY' 'CF' 'GM' 'KZ' 'CD'\n",
      " 'BZ']\n",
      "customer_gender : ['H' 'V' nan]\n",
      "customer_date_of_entry_into_the_bank : ['2015-01-12' '2012-08-10' nan ... '2015-01-31' '2015-02-17' '2015-02-01']\n",
      "customer_relation_type_at_the_beginning_of_the_month : ['A' 'I' nan 'P']\n",
      "residence_index : ['S' nan 'N']\n",
      "foreign_index : ['N' 'S' nan]\n",
      "type_of_channel : ['KHL' 'KHE' 'KHD' 'KFA' 'KFC' 'KAT' nan 'KAZ' 'RED' 'KHC' 'KHK' 'KGN'\n",
      " 'KHM' 'KHO' 'KDH' 'KEH' 'KAD' 'KBG' 'KGC' 'KHF' 'KFK' 'KHN' 'KHA' 'KAF'\n",
      " 'KGX' 'KFD' 'KAG' 'KFG' 'KAB' 'KCC' 'KAE' 'KAH' 'KAR' 'KFJ' 'KFL' 'KAI'\n",
      " 'KFU' 'KAQ' 'KFS' 'KAA' 'KFP' 'KAJ' 'KFN' 'KGV' 'KGY' 'KFF' 'KAP' 'KDE'\n",
      " 'KFV' '013' 'K00' 'KAK' 'KCK' 'KCL' 'KAY' 'KBU' 'KDR' 'KAC' 'KDT' 'KCG'\n",
      " 'KDO' 'KDY' 'KBQ' 'KDA' 'KBO' 'KCI' 'KEC' 'KBZ' 'KES' 'KDX' 'KAS' '007'\n",
      " 'KEU' 'KCA' 'KAL' 'KDC' 'KAW' 'KCS' 'KCB' 'KDU' 'KDQ' 'KCN' 'KCM' '004'\n",
      " 'KCH' 'KCD' 'KCE' 'KEV' 'KBL' 'KEA' 'KBH' 'KDV' 'KFT' 'KEY' 'KAO' 'KEJ'\n",
      " 'KEO' 'KEI' 'KEW' 'KDZ' 'KBV' 'KBR' 'KBF' 'KDP' 'KCO' 'KCF' 'KCV' 'KAM'\n",
      " 'KEZ' 'KBD' 'KAN' 'KBY' 'KCT' 'KDD' 'KBW' 'KCU' 'KBX' 'KDB' 'KBS' 'KBE'\n",
      " 'KCX' 'KBP' 'KBN' 'KEB' 'KDS' 'KEL' 'KDG' 'KDF' 'KEF' 'KCP' 'KDM' 'KBB'\n",
      " 'KDW' 'KBJ' 'KFI' 'KBM' 'KEG' 'KEN' 'KEQ' 'KAV' 'KFH' 'KFM' 'KAU' 'KED'\n",
      " 'KFR' 'KEK' 'KFB' 'KGW' 'KFE' 'KGU' 'KDI' 'KDN' 'KEE' 'KCR' 'KCQ' 'KEM'\n",
      " 'KCJ']\n",
      "deceased_index_(N/S) : ['N' nan 'S']\n",
      "province_name : ['MALAGA' 'CIUDAD REAL' 'ZARAGOZA' 'TOLEDO' 'LEON' 'GIPUZKOA' 'CACERES'\n",
      " 'GIRONA' 'ZAMORA' 'BARCELONA' 'SALAMANCA' 'BURGOS' 'HUESCA' 'NAVARRA'\n",
      " 'AVILA' 'SEGOVIA' 'LUGO' 'LERIDA' 'MADRID' 'ALICANTE' 'SORIA' 'SEVILLA'\n",
      " 'CANTABRIA' 'BALEARS, ILLES' 'VALLADOLID' 'PONTEVEDRA' 'VALENCIA'\n",
      " 'TERUEL' 'CORUÑA, A' 'OURENSE' 'JAEN' 'CUENCA' 'BIZKAIA' 'CASTELLON'\n",
      " 'RIOJA, LA' 'ALBACETE' 'BADAJOZ' 'MURCIA' 'CADIZ' nan 'ALMERIA'\n",
      " 'GUADALAJARA' 'PALENCIA' 'PALMAS, LAS' 'CORDOBA' 'HUELVA' 'GRANADA'\n",
      " 'ASTURIAS' 'SANTA CRUZ DE TENERIFE' 'MELILLA' 'TARRAGONA' 'ALAVA' 'CEUTA']\n"
     ]
    }
   ],
   "source": [
    "print(\"Unique values in each categorical column:\")\n",
    "for col in df.select_dtypes(include=[object]):\n",
    "    print(col,\":\", df[col].unique())"
   ]
  },
  {
   "cell_type": "code",
   "execution_count": 21,
   "id": "14abcfb9",
   "metadata": {},
   "outputs": [
    {
     "data": {
      "text/plain": [
       "ES    615491\n",
       "FR       288\n",
       "AR       276\n",
       "DE       257\n",
       "GB       254\n",
       "       ...  \n",
       "KW         1\n",
       "LB         1\n",
       "AL         1\n",
       "OM         1\n",
       "HU         1\n",
       "Name: customer_country_residence, Length: 113, dtype: int64"
      ]
     },
     "execution_count": 21,
     "metadata": {},
     "output_type": "execute_result"
    }
   ],
   "source": [
    "df[\"customer_country_residence\"].value_counts()"
   ]
  },
  {
   "cell_type": "markdown",
   "id": "9a2556a4",
   "metadata": {},
   "source": [
    "Starting from this part, I will be focusing on ES data only (which has the most records). "
   ]
  },
  {
   "cell_type": "code",
   "execution_count": 22,
   "id": "0e18aba3",
   "metadata": {},
   "outputs": [],
   "source": [
    "df_es = df.query(\"customer_country_residence =='ES'\").reset_index(drop=True)"
   ]
  },
  {
   "cell_type": "code",
   "execution_count": 23,
   "id": "2bf7b838",
   "metadata": {},
   "outputs": [
    {
     "data": {
      "text/plain": [
       "date                                                         0\n",
       "customer_id                                                  0\n",
       "employee_index                                               0\n",
       "customer_country_residence                                   0\n",
       "customer_gender                                              1\n",
       "age                                                          0\n",
       "customer_date_of_entry_into_the_bank                         0\n",
       "new_customer_index                                           0\n",
       "customer_seniority                                           0\n",
       "first/primary_customer                                       0\n",
       "customer_type_at_the_beginning_of_the_month                  0\n",
       "customer_relation_type_at_the_beginning_of_the_month         0\n",
       "residence_index                                              0\n",
       "foreign_index                                                0\n",
       "type_of_channel                                             51\n",
       "deceased_index_(N/S)                                         0\n",
       "address_type                                                 0\n",
       "province_code                                                5\n",
       "province_name                                                5\n",
       "activity_index                                               0\n",
       "gross_income_of_the_household                           101057\n",
       "saving_account                                               0\n",
       "guarantees                                                   0\n",
       "current_account                                              0\n",
       "derivative_account                                           0\n",
       "payroll_account                                              0\n",
       "junior_account                                               0\n",
       "mas_particular_account                                       0\n",
       "particular_account                                           0\n",
       "particular_plus_account                                      0\n",
       "short_term_deposits                                          0\n",
       "medium_term_deposits                                         0\n",
       "long_term_deposits                                           0\n",
       "e-account                                                    0\n",
       "funds                                                        0\n",
       "mortgage                                                     0\n",
       "last_pensions                                                0\n",
       "loans                                                        0\n",
       "taxes                                                        0\n",
       "credit_card                                                  0\n",
       "securities                                                   0\n",
       "home_account                                                 0\n",
       "payroll                                                     60\n",
       "pensions                                                    60\n",
       "direct_debit                                                 0\n",
       "dtype: int64"
      ]
     },
     "execution_count": 23,
     "metadata": {},
     "output_type": "execute_result"
    }
   ],
   "source": [
    "df_es.isnull().sum()"
   ]
  },
  {
   "cell_type": "code",
   "execution_count": 24,
   "id": "f5ff186f",
   "metadata": {},
   "outputs": [
    {
     "name": "stdout",
     "output_type": "stream",
     "text": [
      "Unique values in each float column:\n",
      "age : [ 35.  23.  22.  24.  65.  28.  25.  26.  53.  27.  32.  37.  31.  39.\n",
      "  63.  33.  55.  42.  58.  38.  50.  30.  45.  44.  36.  29.  60.  57.\n",
      "  67.  47.  34.  48.  46.  54.  84.  15.  12.   8.   6.  83.  40.  77.\n",
      "  69.  52.  59.  43.  10.   9.  49.  41.  51.  78.  16.  11.  73.  62.\n",
      "  66.  17.  68.  82.  95.  96.  56.  61.  79.  72.  14.  19.  13.  86.\n",
      "  64.  20.  89.  71.   7.  70.  74.  21.  18.  75.   4.  80.  81.   5.\n",
      "  76.  92.  93.  85.  91.  87.  90.  94.  99.  98.  88.  97. 100. 101.\n",
      " 106. 103.   3.   2. 102. 104. 111. 107. 109. 105. 112. 115. 110. 116.\n",
      " 108. 113.]\n",
      "new_customer_index : [0. 1.]\n",
      "customer_seniority : [ 6.00000e+00  3.50000e+01  3.40000e+01  3.30000e+01  3.10000e+01\n",
      "  2.10000e+01  1.60000e+01  2.70000e+01  9.00000e+00  2.20000e+01\n",
      "  1.30000e+01  2.90000e+01  8.00000e+00  1.10000e+01  1.00000e+01\n",
      "  2.80000e+01  2.40000e+01  7.00000e+00  2.50000e+01  1.40000e+01\n",
      "  2.60000e+01  1.20000e+01  2.30000e+01  1.00000e+00  1.80000e+01\n",
      "  4.00000e+00  3.00000e+00  1.70000e+01  3.20000e+01  3.00000e+01\n",
      "  2.00000e+01  1.50000e+01  1.90000e+01  1.57000e+02  3.60000e+01\n",
      "  5.00000e+00  4.00000e+01  3.80000e+01  3.70000e+01  3.90000e+01\n",
      "  0.00000e+00  2.00000e+00  4.70000e+01  4.40000e+01  4.20000e+01\n",
      "  4.60000e+01  4.50000e+01  4.30000e+01  4.10000e+01  5.70000e+01\n",
      "  4.80000e+01  5.20000e+01  4.90000e+01  5.00000e+01  5.60000e+01\n",
      "  5.80000e+01  5.10000e+01  5.50000e+01  5.40000e+01  5.30000e+01\n",
      "  5.90000e+01  6.20000e+01  6.10000e+01  6.00000e+01  6.30000e+01\n",
      "  1.39000e+02  1.65000e+02  1.18000e+02  1.64000e+02  1.42000e+02\n",
      "  9.40000e+01  1.59000e+02  1.43000e+02  1.05000e+02  1.51000e+02\n",
      "  1.62000e+02  1.37000e+02  1.50000e+02  1.28000e+02  1.22000e+02\n",
      "  1.56000e+02  1.19000e+02  1.60000e+02  7.90000e+01  9.50000e+01\n",
      "  1.32000e+02  1.61000e+02  9.80000e+01  1.27000e+02  7.20000e+01\n",
      "  1.55000e+02  1.08000e+02  1.63000e+02  1.02000e+02  1.48000e+02\n",
      "  1.15000e+02  1.46000e+02  1.07000e+02  8.10000e+01  2.16000e+02\n",
      "  1.35000e+02  9.20000e+01  1.21000e+02  1.98000e+02  1.34000e+02\n",
      "  9.30000e+01  1.40000e+02  1.10000e+02  1.20000e+02  1.47000e+02\n",
      "  1.16000e+02  6.40000e+01  7.70000e+01  8.50000e+01  9.90000e+01\n",
      "  7.80000e+01  1.00000e+02  1.13000e+02  1.54000e+02  1.66000e+02\n",
      "  1.33000e+02  1.24000e+02  1.41000e+02  6.60000e+01  1.17000e+02\n",
      "  8.60000e+01  1.93000e+02  8.00000e+01  1.44000e+02  8.70000e+01\n",
      "  1.26000e+02  1.58000e+02  1.01000e+02  2.35000e+02  8.80000e+01\n",
      "  1.45000e+02  1.03000e+02  1.49000e+02  1.09000e+02  1.31000e+02\n",
      "  9.70000e+01  6.80000e+01  8.40000e+01  2.32000e+02  1.25000e+02\n",
      "  1.77000e+02  1.12000e+02  9.60000e+01  6.90000e+01  1.71000e+02\n",
      "  1.67000e+02  1.04000e+02  7.60000e+01  8.20000e+01  1.52000e+02\n",
      "  7.00000e+01  1.38000e+02  1.69000e+02  6.50000e+01  1.29000e+02\n",
      "  1.90000e+02  1.14000e+02  1.11000e+02  1.76000e+02  1.53000e+02\n",
      "  8.90000e+01  1.36000e+02  8.30000e+01  1.23000e+02  1.87000e+02\n",
      "  1.06000e+02  2.31000e+02  1.89000e+02  2.17000e+02  1.72000e+02\n",
      "  1.99000e+02  1.73000e+02  1.74000e+02  2.09000e+02  1.80000e+02\n",
      "  1.78000e+02  9.10000e+01  1.68000e+02  1.30000e+02  2.25000e+02\n",
      "  6.70000e+01  7.30000e+01  1.83000e+02  7.40000e+01  2.06000e+02\n",
      "  7.10000e+01  1.79000e+02  1.84000e+02  1.92000e+02  9.00000e+01\n",
      "  1.94000e+02  1.82000e+02  1.88000e+02  2.13000e+02  1.85000e+02\n",
      "  1.95000e+02  1.86000e+02  2.07000e+02  2.08000e+02  7.50000e+01\n",
      "  1.75000e+02  2.01000e+02  2.03000e+02  2.12000e+02  2.15000e+02\n",
      "  1.70000e+02  2.28000e+02  2.14000e+02  2.02000e+02  1.96000e+02\n",
      "  1.81000e+02  2.11000e+02  1.91000e+02  2.05000e+02  2.00000e+02\n",
      "  2.27000e+02  2.18000e+02  2.19000e+02  2.26000e+02  2.24000e+02\n",
      "  2.10000e+02  2.42000e+02  2.23000e+02  2.37000e+02  2.04000e+02\n",
      "  2.33000e+02  2.20000e+02  2.22000e+02  2.41000e+02  1.97000e+02\n",
      "  2.21000e+02  2.29000e+02  2.34000e+02  2.40000e+02  2.43000e+02\n",
      "  2.30000e+02  2.38000e+02  2.46000e+02  2.36000e+02  2.44000e+02\n",
      "  2.39000e+02  2.45000e+02 -9.99999e+05]\n",
      "first/primary_customer : [ 1. 99.]\n",
      "customer_type_at_the_beginning_of_the_month : [1. 3. 2.]\n",
      "address_type : [1.]\n",
      "province_code : [29. 13. 50. 45. 24. 20. 10. 17. 49.  8. 37.  9. 22. 31.  5. 40. 27. 25.\n",
      " 28.  3. 42. 41. 39.  7. 47. 36. 46. 44. 15. 32. 23. 16. 48. 12. 26.  2.\n",
      "  6. 30. 11.  4. 19. 34. 35. 14. 21. 18. 33. 38. 52. 43.  1. 51. nan]\n",
      "activity_index : [1. 0.]\n",
      "gross_income_of_the_household : [ 87218.1   35548.74 122179.11 ... 207276.15 193597.59 138471.78]\n",
      "payroll : [ 0.  1. nan]\n",
      "pensions : [ 0.  1. nan]\n"
     ]
    }
   ],
   "source": [
    "print(\"Unique values in each float column:\")\n",
    "for col in df_es.select_dtypes(include=[float]):\n",
    "    print(col,\":\", df_es[col].unique())"
   ]
  },
  {
   "cell_type": "markdown",
   "id": "da2f8f6e",
   "metadata": {},
   "source": [
    "\"customer_seniority\" column has a value below zero. I will replace this value with 0."
   ]
  },
  {
   "cell_type": "code",
   "execution_count": 25,
   "id": "6ded4562",
   "metadata": {},
   "outputs": [],
   "source": [
    "df_es.loc[df_es.customer_seniority < 0, \"customer_seniority\"] = 0"
   ]
  },
  {
   "cell_type": "code",
   "execution_count": 26,
   "id": "590eeb7f",
   "metadata": {},
   "outputs": [
    {
     "data": {
      "text/plain": [
       "2.0        9\n",
       "3.0       59\n",
       "4.0      107\n",
       "5.0      160\n",
       "6.0      177\n",
       "        ... \n",
       "111.0      8\n",
       "112.0      8\n",
       "113.0      4\n",
       "115.0      6\n",
       "116.0      2\n",
       "Name: age, Length: 114, dtype: int64"
      ]
     },
     "execution_count": 26,
     "metadata": {},
     "output_type": "execute_result"
    }
   ],
   "source": [
    "df_es[\"age\"].value_counts().sort_index()"
   ]
  },
  {
   "cell_type": "code",
   "execution_count": 27,
   "id": "e494da59",
   "metadata": {},
   "outputs": [
    {
     "data": {
      "image/png": "[encoded data removed]",
      "text/plain": [
       "<Figure size 864x576 with 1 Axes>"
      ]
     },
     "metadata": {},
     "output_type": "display_data"
    }
   ],
   "source": [
    "plt.figure(figsize=(12,8))\n",
    "df_es['age'].hist(bins=50, color=\"green\");\n",
    "plt.title(\"Customers' Age Distribution ( ES)\")\n",
    "plt.xlabel(\"Age\")\n",
    "plt.ylabel(\"Number of customers\"); "
   ]
  },
  {
   "cell_type": "code",
   "execution_count": 28,
   "id": "6bd9d047",
   "metadata": {},
   "outputs": [
    {
     "data": {
      "image/png": "[encoded data removed]",
      "text/plain": [
       "<Figure size 1080x648 with 1 Axes>"
      ]
     },
     "metadata": {},
     "output_type": "display_data"
    }
   ],
   "source": [
    "df_es.loc[df_es.age < 18,\"age\"]  = df_es.loc[(df_es.age >= 18) & (df_es.age <= 30),\"age\"].mean(skipna=True)\n",
    "df_es.loc[df_es.age > 90,\"age\"] = df_es.loc[(df_es.age >= 30) & (df_es.age <= 90),\"age\"].mean(skipna=True)\n",
    "df_es[\"age\"].fillna(df_es[\"age\"].mean(),inplace=True)\n",
    "df_es[\"age\"] = df_es[\"age\"].astype(int)\n",
    "plt.figure(figsize=(15,9))\n",
    "df_es['age'].hist(bins=50, color=\"green\");\n",
    "plt.title(\"Customers' Age Distribution (ES)\")\n",
    "plt.xlabel(\"Age\")\n",
    "plt.ylabel(\"Number of customers\"); "
   ]
  },
  {
   "cell_type": "code",
   "execution_count": 29,
   "id": "0a254331",
   "metadata": {},
   "outputs": [
    {
     "name": "stdout",
     "output_type": "stream",
     "text": [
      "Requirement already satisfied: missingno in c:\\users\\melis\\anaconda3\\lib\\site-packages (0.5.0)Note: you may need to restart the kernel to use updated packages.\n",
      "\n",
      "Requirement already satisfied: scipy in c:\\users\\melis\\anaconda3\\lib\\site-packages (from missingno) (1.6.2)\n",
      "Requirement already satisfied: matplotlib in c:\\users\\melis\\anaconda3\\lib\\site-packages (from missingno) (3.3.4)\n",
      "Requirement already satisfied: seaborn in c:\\users\\melis\\anaconda3\\lib\\site-packages (from missingno) (0.11.1)\n",
      "Requirement already satisfied: numpy in c:\\users\\melis\\anaconda3\\lib\\site-packages (from missingno) (1.20.1)\n",
      "Requirement already satisfied: pyparsing!=2.0.4,!=2.1.2,!=2.1.6,>=2.0.3 in c:\\users\\melis\\anaconda3\\lib\\site-packages (from matplotlib->missingno) (2.4.7)\n",
      "Requirement already satisfied: kiwisolver>=1.0.1 in c:\\users\\melis\\anaconda3\\lib\\site-packages (from matplotlib->missingno) (1.3.1)\n",
      "Requirement already satisfied: pillow>=6.2.0 in c:\\users\\melis\\anaconda3\\lib\\site-packages (from matplotlib->missingno) (8.2.0)\n",
      "Requirement already satisfied: python-dateutil>=2.1 in c:\\users\\melis\\anaconda3\\lib\\site-packages (from matplotlib->missingno) (2.8.1)\n",
      "Requirement already satisfied: cycler>=0.10 in c:\\users\\melis\\anaconda3\\lib\\site-packages (from matplotlib->missingno) (0.10.0)\n",
      "Requirement already satisfied: six in c:\\users\\melis\\anaconda3\\lib\\site-packages (from cycler>=0.10->matplotlib->missingno) (1.15.0)\n",
      "Requirement already satisfied: pandas>=0.23 in c:\\users\\melis\\anaconda3\\lib\\site-packages (from seaborn->missingno) (1.2.4)\n",
      "Requirement already satisfied: pytz>=2017.3 in c:\\users\\melis\\anaconda3\\lib\\site-packages (from pandas>=0.23->seaborn->missingno) (2021.1)\n"
     ]
    }
   ],
   "source": [
    "pip install missingno"
   ]
  },
  {
   "cell_type": "code",
   "execution_count": 30,
   "id": "5f8f0bb2",
   "metadata": {},
   "outputs": [
    {
     "data": {
      "text/plain": [
       "<AxesSubplot:>"
      ]
     },
     "execution_count": 30,
     "metadata": {},
     "output_type": "execute_result"
    },
    {
     "data": {
      "image/png": "[encoded data removed]",
      "text/plain": [
       "<Figure size 1440x576 with 3 Axes>"
      ]
     },
     "metadata": {},
     "output_type": "display_data"
    }
   ],
   "source": [
    "import missingno as msno\n",
    "missingValuesColumns= df_es.columns[df_es.isnull().any()].tolist()\n",
    "msno.bar(df_es[missingValuesColumns],\\\n",
    "            figsize=(20,8),color=\"black\",fontsize=12,labels=True,)"
   ]
  },
  {
   "cell_type": "markdown",
   "id": "ed25d01f",
   "metadata": {},
   "source": [
    "I will try to fill this place (gross_income_of_the_household) in different ways as there are too many missing values."
   ]
  },
  {
   "cell_type": "markdown",
   "id": "0113329c",
   "metadata": {},
   "source": [
    "\n",
    "## First Method"
   ]
  },
  {
   "cell_type": "code",
   "execution_count": 31,
   "id": "6e747ab6",
   "metadata": {},
   "outputs": [],
   "source": [
    "df_es1 = df_es.copy()"
   ]
  },
  {
   "cell_type": "code",
   "execution_count": 32,
   "id": "22c08f5a",
   "metadata": {},
   "outputs": [],
   "source": [
    "df_es1 = df_es1.dropna(axis = 0, how=\"any\")"
   ]
  },
  {
   "cell_type": "code",
   "execution_count": 33,
   "id": "ec26a046",
   "metadata": {},
   "outputs": [
    {
     "data": {
      "text/plain": [
       "date                                                    0\n",
       "customer_id                                             0\n",
       "employee_index                                          0\n",
       "customer_country_residence                              0\n",
       "customer_gender                                         0\n",
       "age                                                     0\n",
       "customer_date_of_entry_into_the_bank                    0\n",
       "new_customer_index                                      0\n",
       "customer_seniority                                      0\n",
       "first/primary_customer                                  0\n",
       "customer_type_at_the_beginning_of_the_month             0\n",
       "customer_relation_type_at_the_beginning_of_the_month    0\n",
       "residence_index                                         0\n",
       "foreign_index                                           0\n",
       "type_of_channel                                         0\n",
       "deceased_index_(N/S)                                    0\n",
       "address_type                                            0\n",
       "province_code                                           0\n",
       "province_name                                           0\n",
       "activity_index                                          0\n",
       "gross_income_of_the_household                           0\n",
       "saving_account                                          0\n",
       "guarantees                                              0\n",
       "current_account                                         0\n",
       "derivative_account                                      0\n",
       "payroll_account                                         0\n",
       "junior_account                                          0\n",
       "mas_particular_account                                  0\n",
       "particular_account                                      0\n",
       "particular_plus_account                                 0\n",
       "short_term_deposits                                     0\n",
       "medium_term_deposits                                    0\n",
       "long_term_deposits                                      0\n",
       "e-account                                               0\n",
       "funds                                                   0\n",
       "mortgage                                                0\n",
       "last_pensions                                           0\n",
       "loans                                                   0\n",
       "taxes                                                   0\n",
       "credit_card                                             0\n",
       "securities                                              0\n",
       "home_account                                            0\n",
       "payroll                                                 0\n",
       "pensions                                                0\n",
       "direct_debit                                            0\n",
       "dtype: int64"
      ]
     },
     "execution_count": 33,
     "metadata": {},
     "output_type": "execute_result"
    }
   ],
   "source": [
    "df_es1.isnull().sum()"
   ]
  },
  {
   "cell_type": "code",
   "execution_count": 34,
   "id": "04d50c60",
   "metadata": {},
   "outputs": [
    {
     "data": {
      "text/plain": [
       "(514353, 45)"
      ]
     },
     "execution_count": 34,
     "metadata": {},
     "output_type": "execute_result"
    }
   ],
   "source": [
    "df_es1.shape"
   ]
  },
  {
   "cell_type": "code",
   "execution_count": 35,
   "id": "e10d9555",
   "metadata": {},
   "outputs": [
    {
     "name": "stdout",
     "output_type": "stream",
     "text": [
      "Old data frame length: 615491\n",
      "New data frame length: 514353\n",
      "Number of rows with at least 1 NA value:  101138\n"
     ]
    }
   ],
   "source": [
    "print(\"Old data frame length:\", len(df_es))\n",
    "print(\"New data frame length:\", len(df_es1)) \n",
    "print(\"Number of rows with at least 1 NA value: \", (len(df_es)-len(df_es1)))"
   ]
  },
  {
   "cell_type": "markdown",
   "id": "58b93512",
   "metadata": {},
   "source": [
    "This is very simple but bad method."
   ]
  },
  {
   "cell_type": "markdown",
   "id": "b4b929f6",
   "metadata": {},
   "source": [
    "## Second Method"
   ]
  },
  {
   "cell_type": "code",
   "execution_count": 36,
   "id": "1344700b",
   "metadata": {},
   "outputs": [],
   "source": [
    "df_es2 = df_es.copy()"
   ]
  },
  {
   "cell_type": "code",
   "execution_count": 37,
   "id": "64d9baa8",
   "metadata": {},
   "outputs": [
    {
     "data": {
      "image/png": "[encoded data removed]",
      "text/plain": [
       "<Figure size 523.05x360 with 1 Axes>"
      ]
     },
     "metadata": {},
     "output_type": "display_data"
    }
   ],
   "source": [
    "sns.displot(data=df_es, x=\"gross_income_of_the_household\",\n",
    "            kind=\"kde\",\n",
    "            hue=\"customer_country_residence\");"
   ]
  },
  {
   "cell_type": "code",
   "execution_count": 38,
   "id": "98f665cb",
   "metadata": {},
   "outputs": [],
   "source": [
    "median = df_es2[\"gross_income_of_the_household\"].median()\n",
    "df_es2[\"gross_income_of_the_household\"].fillna(median, inplace=True)"
   ]
  },
  {
   "cell_type": "code",
   "execution_count": 39,
   "id": "bf446eee",
   "metadata": {},
   "outputs": [],
   "source": [
    "df_es2 = df_es2.dropna(axis = 0, how=\"any\")"
   ]
  },
  {
   "cell_type": "code",
   "execution_count": 40,
   "id": "2d1b417a",
   "metadata": {},
   "outputs": [
    {
     "data": {
      "text/plain": [
       "(615387, 45)"
      ]
     },
     "execution_count": 40,
     "metadata": {},
     "output_type": "execute_result"
    }
   ],
   "source": [
    "df_es2.shape"
   ]
  },
  {
   "cell_type": "code",
   "execution_count": 41,
   "id": "d39c0377",
   "metadata": {},
   "outputs": [
    {
     "data": {
      "image/png": "[encoded data removed]",
      "text/plain": [
       "<Figure size 523.05x360 with 1 Axes>"
      ]
     },
     "metadata": {},
     "output_type": "display_data"
    }
   ],
   "source": [
    "sns.displot(data=df_es2, x=\"gross_income_of_the_household\",\n",
    "            kind=\"kde\",\n",
    "            hue=\"customer_country_residence\");"
   ]
  },
  {
   "cell_type": "code",
   "execution_count": 42,
   "id": "18a5d5b4",
   "metadata": {},
   "outputs": [
    {
     "data": {
      "text/plain": [
       "date                                                    0\n",
       "customer_id                                             0\n",
       "employee_index                                          0\n",
       "customer_country_residence                              0\n",
       "customer_gender                                         0\n",
       "age                                                     0\n",
       "customer_date_of_entry_into_the_bank                    0\n",
       "new_customer_index                                      0\n",
       "customer_seniority                                      0\n",
       "first/primary_customer                                  0\n",
       "customer_type_at_the_beginning_of_the_month             0\n",
       "customer_relation_type_at_the_beginning_of_the_month    0\n",
       "residence_index                                         0\n",
       "foreign_index                                           0\n",
       "type_of_channel                                         0\n",
       "deceased_index_(N/S)                                    0\n",
       "address_type                                            0\n",
       "province_code                                           0\n",
       "province_name                                           0\n",
       "activity_index                                          0\n",
       "gross_income_of_the_household                           0\n",
       "saving_account                                          0\n",
       "guarantees                                              0\n",
       "current_account                                         0\n",
       "derivative_account                                      0\n",
       "payroll_account                                         0\n",
       "junior_account                                          0\n",
       "mas_particular_account                                  0\n",
       "particular_account                                      0\n",
       "particular_plus_account                                 0\n",
       "short_term_deposits                                     0\n",
       "medium_term_deposits                                    0\n",
       "long_term_deposits                                      0\n",
       "e-account                                               0\n",
       "funds                                                   0\n",
       "mortgage                                                0\n",
       "last_pensions                                           0\n",
       "loans                                                   0\n",
       "taxes                                                   0\n",
       "credit_card                                             0\n",
       "securities                                              0\n",
       "home_account                                            0\n",
       "payroll                                                 0\n",
       "pensions                                                0\n",
       "direct_debit                                            0\n",
       "dtype: int64"
      ]
     },
     "execution_count": 42,
     "metadata": {},
     "output_type": "execute_result"
    }
   ],
   "source": [
    "df_es2.isnull().sum()"
   ]
  },
  {
   "cell_type": "code",
   "execution_count": 43,
   "id": "eb5e674b",
   "metadata": {},
   "outputs": [
    {
     "name": "stdout",
     "output_type": "stream",
     "text": [
      "Old data frame length: 1000000\n",
      "New data frame length: 615387\n",
      "Number of rows with at least 1 NA value:  384613\n"
     ]
    }
   ],
   "source": [
    "print(\"Old data frame length:\", len(cust_seg_df))\n",
    "print(\"New data frame length:\", len(df_es2)) \n",
    "print(\"Number of rows with at least 1 NA value: \", (len(cust_seg_df)-len(df_es2)))"
   ]
  },
  {
   "cell_type": "markdown",
   "id": "48031a50",
   "metadata": {},
   "source": [
    "From 1 million observations, almost 385K have been dropped. Through the techniques has employed, around 61.5% of data has been maintained."
   ]
  },
  {
   "cell_type": "markdown",
   "id": "80a3a14c",
   "metadata": {},
   "source": [
    "## Third Method"
   ]
  },
  {
   "cell_type": "code",
   "execution_count": 44,
   "id": "d6040b95",
   "metadata": {},
   "outputs": [],
   "source": [
    "df_es3 = df_es.copy()"
   ]
  },
  {
   "cell_type": "code",
   "execution_count": 45,
   "id": "b47a3f45",
   "metadata": {},
   "outputs": [],
   "source": [
    "df_es3.interpolate(method = \"linear\", inplace=True)"
   ]
  },
  {
   "cell_type": "code",
   "execution_count": 46,
   "id": "c61a5447",
   "metadata": {},
   "outputs": [],
   "source": [
    "df_es3 = df_es3.dropna(axis = 0, how=\"any\")"
   ]
  },
  {
   "cell_type": "code",
   "execution_count": 47,
   "id": "6d864541",
   "metadata": {},
   "outputs": [
    {
     "data": {
      "text/plain": [
       "date                                                    0\n",
       "customer_id                                             0\n",
       "employee_index                                          0\n",
       "customer_country_residence                              0\n",
       "customer_gender                                         0\n",
       "age                                                     0\n",
       "customer_date_of_entry_into_the_bank                    0\n",
       "new_customer_index                                      0\n",
       "customer_seniority                                      0\n",
       "first/primary_customer                                  0\n",
       "customer_type_at_the_beginning_of_the_month             0\n",
       "customer_relation_type_at_the_beginning_of_the_month    0\n",
       "residence_index                                         0\n",
       "foreign_index                                           0\n",
       "type_of_channel                                         0\n",
       "deceased_index_(N/S)                                    0\n",
       "address_type                                            0\n",
       "province_code                                           0\n",
       "province_name                                           0\n",
       "activity_index                                          0\n",
       "gross_income_of_the_household                           0\n",
       "saving_account                                          0\n",
       "guarantees                                              0\n",
       "current_account                                         0\n",
       "derivative_account                                      0\n",
       "payroll_account                                         0\n",
       "junior_account                                          0\n",
       "mas_particular_account                                  0\n",
       "particular_account                                      0\n",
       "particular_plus_account                                 0\n",
       "short_term_deposits                                     0\n",
       "medium_term_deposits                                    0\n",
       "long_term_deposits                                      0\n",
       "e-account                                               0\n",
       "funds                                                   0\n",
       "mortgage                                                0\n",
       "last_pensions                                           0\n",
       "loans                                                   0\n",
       "taxes                                                   0\n",
       "credit_card                                             0\n",
       "securities                                              0\n",
       "home_account                                            0\n",
       "payroll                                                 0\n",
       "pensions                                                0\n",
       "direct_debit                                            0\n",
       "dtype: int64"
      ]
     },
     "execution_count": 47,
     "metadata": {},
     "output_type": "execute_result"
    }
   ],
   "source": [
    "df_es3.isnull().sum()"
   ]
  },
  {
   "cell_type": "code",
   "execution_count": 48,
   "id": "13038bf1",
   "metadata": {},
   "outputs": [
    {
     "name": "stdout",
     "output_type": "stream",
     "text": [
      "Old data frame length: 1000000\n",
      "New data frame length: 615434\n",
      "Number of rows with at least 1 NA value:  384566\n"
     ]
    }
   ],
   "source": [
    "print(\"Old data frame length:\", len(cust_seg_df))\n",
    "print(\"New data frame length:\", len(df_es3)) \n",
    "print(\"Number of rows with at least 1 NA value: \", (len(cust_seg_df)-len(df_es3)))"
   ]
  },
  {
   "cell_type": "code",
   "execution_count": null,
   "id": "89782aee",
   "metadata": {},
   "outputs": [],
   "source": []
  }
 ],
 "metadata": {
  "kernelspec": {
   "display_name": "Python 3",
   "language": "python",
   "name": "python3"
  },
  "language_info": {
   "codemirror_mode": {
    "name": "ipython",
    "version": 3
   },
   "file_extension": ".py",
   "mimetype": "text/x-python",
   "name": "python",
   "nbconvert_exporter": "python",
   "pygments_lexer": "ipython3",
   "version": "3.8.8"
  }
 },
 "nbformat": 4,
 "nbformat_minor": 5
}
