{
 "cells": [
  {
   "cell_type": "code",
   "execution_count": 1,
   "id": "6b25372f-4d8b-4e34-8fec-6910dbe3c8e8",
   "metadata": {},
   "outputs": [],
   "source": [
    "import numpy as np\n",
    "import pandas as pd\n",
    "import matplotlib.pyplot as plt\n",
    "import seaborn as sns\n",
    "from sklearn.cluster import KMeans"
   ]
  },
  {
   "cell_type": "code",
   "execution_count": 2,
   "id": "3843adf7-b82b-4ffd-b385-d4943cfb6441",
   "metadata": {},
   "outputs": [],
   "source": [
    "df = pd.read_csv(\"df_preprocessed.csv\")"
   ]
  },
  {
   "cell_type": "code",
   "execution_count": 3,
   "id": "ee9d9aa0-8877-4333-b82c-f00febb88e52",
   "metadata": {},
   "outputs": [
    {
     "data": {
      "text/html": [
       "<div>\n",
       "<style scoped>\n",
       "    .dataframe tbody tr th:only-of-type {\n",
       "        vertical-align: middle;\n",
       "    }\n",
       "\n",
       "    .dataframe tbody tr th {\n",
       "        vertical-align: top;\n",
       "    }\n",
       "\n",
       "    .dataframe thead th {\n",
       "        text-align: right;\n",
       "    }\n",
       "</style>\n",
       "<table border=\"1\" class=\"dataframe\">\n",
       "  <thead>\n",
       "    <tr style=\"text-align: right;\">\n",
       "      <th></th>\n",
       "      <th>emp_index</th>\n",
       "      <th>cust_residence</th>\n",
       "      <th>cust_gender</th>\n",
       "      <th>age</th>\n",
       "      <th>new_cust_index</th>\n",
       "      <th>cust_seniority</th>\n",
       "      <th>indrel</th>\n",
       "      <th>cust_type</th>\n",
       "      <th>cust_rel_time</th>\n",
       "      <th>cust_res_index</th>\n",
       "      <th>...</th>\n",
       "      <th>securities</th>\n",
       "      <th>home_account</th>\n",
       "      <th>payroll</th>\n",
       "      <th>pensions2</th>\n",
       "      <th>direct_debit</th>\n",
       "      <th>first_holder_date_year</th>\n",
       "      <th>first_holder_date_month</th>\n",
       "      <th>first_holder_date_day</th>\n",
       "      <th>total_accounts</th>\n",
       "      <th>dup_rows_count</th>\n",
       "    </tr>\n",
       "  </thead>\n",
       "  <tbody>\n",
       "    <tr>\n",
       "      <th>0</th>\n",
       "      <td>N</td>\n",
       "      <td>Spain</td>\n",
       "      <td>H</td>\n",
       "      <td>35</td>\n",
       "      <td>0.0</td>\n",
       "      <td>6</td>\n",
       "      <td>1.0</td>\n",
       "      <td>1.0</td>\n",
       "      <td>A</td>\n",
       "      <td>1</td>\n",
       "      <td>...</td>\n",
       "      <td>0</td>\n",
       "      <td>0</td>\n",
       "      <td>0.0</td>\n",
       "      <td>0.0</td>\n",
       "      <td>0</td>\n",
       "      <td>2015</td>\n",
       "      <td>1</td>\n",
       "      <td>0</td>\n",
       "      <td>1.0</td>\n",
       "      <td>1</td>\n",
       "    </tr>\n",
       "    <tr>\n",
       "      <th>1</th>\n",
       "      <td>N</td>\n",
       "      <td>Spain</td>\n",
       "      <td>V</td>\n",
       "      <td>23</td>\n",
       "      <td>0.0</td>\n",
       "      <td>35</td>\n",
       "      <td>1.0</td>\n",
       "      <td>1.0</td>\n",
       "      <td>I</td>\n",
       "      <td>1</td>\n",
       "      <td>...</td>\n",
       "      <td>0</td>\n",
       "      <td>0</td>\n",
       "      <td>0.0</td>\n",
       "      <td>0.0</td>\n",
       "      <td>0</td>\n",
       "      <td>2012</td>\n",
       "      <td>8</td>\n",
       "      <td>4</td>\n",
       "      <td>1.0</td>\n",
       "      <td>1</td>\n",
       "    </tr>\n",
       "    <tr>\n",
       "      <th>2</th>\n",
       "      <td>N</td>\n",
       "      <td>Spain</td>\n",
       "      <td>V</td>\n",
       "      <td>23</td>\n",
       "      <td>0.0</td>\n",
       "      <td>35</td>\n",
       "      <td>1.0</td>\n",
       "      <td>1.0</td>\n",
       "      <td>I</td>\n",
       "      <td>1</td>\n",
       "      <td>...</td>\n",
       "      <td>0</td>\n",
       "      <td>0</td>\n",
       "      <td>0.0</td>\n",
       "      <td>0.0</td>\n",
       "      <td>0</td>\n",
       "      <td>2012</td>\n",
       "      <td>8</td>\n",
       "      <td>4</td>\n",
       "      <td>1.0</td>\n",
       "      <td>1</td>\n",
       "    </tr>\n",
       "    <tr>\n",
       "      <th>3</th>\n",
       "      <td>N</td>\n",
       "      <td>Spain</td>\n",
       "      <td>H</td>\n",
       "      <td>22</td>\n",
       "      <td>0.0</td>\n",
       "      <td>35</td>\n",
       "      <td>1.0</td>\n",
       "      <td>1.0</td>\n",
       "      <td>I</td>\n",
       "      <td>1</td>\n",
       "      <td>...</td>\n",
       "      <td>0</td>\n",
       "      <td>0</td>\n",
       "      <td>0.0</td>\n",
       "      <td>0.0</td>\n",
       "      <td>0</td>\n",
       "      <td>2012</td>\n",
       "      <td>8</td>\n",
       "      <td>4</td>\n",
       "      <td>1.0</td>\n",
       "      <td>1</td>\n",
       "    </tr>\n",
       "    <tr>\n",
       "      <th>4</th>\n",
       "      <td>N</td>\n",
       "      <td>Spain</td>\n",
       "      <td>V</td>\n",
       "      <td>23</td>\n",
       "      <td>0.0</td>\n",
       "      <td>35</td>\n",
       "      <td>1.0</td>\n",
       "      <td>1.0</td>\n",
       "      <td>A</td>\n",
       "      <td>1</td>\n",
       "      <td>...</td>\n",
       "      <td>0</td>\n",
       "      <td>0</td>\n",
       "      <td>0.0</td>\n",
       "      <td>0.0</td>\n",
       "      <td>0</td>\n",
       "      <td>2012</td>\n",
       "      <td>8</td>\n",
       "      <td>4</td>\n",
       "      <td>1.0</td>\n",
       "      <td>2</td>\n",
       "    </tr>\n",
       "  </tbody>\n",
       "</table>\n",
       "<p>5 rows × 45 columns</p>\n",
       "</div>"
      ],
      "text/plain": [
       "  emp_index cust_residence cust_gender  age  new_cust_index  cust_seniority  \\\n",
       "0         N          Spain           H   35             0.0               6   \n",
       "1         N          Spain           V   23             0.0              35   \n",
       "2         N          Spain           V   23             0.0              35   \n",
       "3         N          Spain           H   22             0.0              35   \n",
       "4         N          Spain           V   23             0.0              35   \n",
       "\n",
       "   indrel  cust_type cust_rel_time  cust_res_index  ...  securities  \\\n",
       "0     1.0        1.0             A               1  ...           0   \n",
       "1     1.0        1.0             I               1  ...           0   \n",
       "2     1.0        1.0             I               1  ...           0   \n",
       "3     1.0        1.0             I               1  ...           0   \n",
       "4     1.0        1.0             A               1  ...           0   \n",
       "\n",
       "  home_account  payroll pensions2  direct_debit  first_holder_date_year  \\\n",
       "0            0      0.0       0.0             0                    2015   \n",
       "1            0      0.0       0.0             0                    2012   \n",
       "2            0      0.0       0.0             0                    2012   \n",
       "3            0      0.0       0.0             0                    2012   \n",
       "4            0      0.0       0.0             0                    2012   \n",
       "\n",
       "   first_holder_date_month  first_holder_date_day  total_accounts  \\\n",
       "0                        1                      0             1.0   \n",
       "1                        8                      4             1.0   \n",
       "2                        8                      4             1.0   \n",
       "3                        8                      4             1.0   \n",
       "4                        8                      4             1.0   \n",
       "\n",
       "   dup_rows_count  \n",
       "0               1  \n",
       "1               1  \n",
       "2               1  \n",
       "3               1  \n",
       "4               2  \n",
       "\n",
       "[5 rows x 45 columns]"
      ]
     },
     "execution_count": 3,
     "metadata": {},
     "output_type": "execute_result"
    }
   ],
   "source": [
    "df.head()"
   ]
  },
  {
   "cell_type": "code",
   "execution_count": 4,
   "id": "52c5347b-d690-44a9-8812-4c90dc09e5e3",
   "metadata": {},
   "outputs": [
    {
     "data": {
      "text/plain": [
       "(606657, 45)"
      ]
     },
     "execution_count": 4,
     "metadata": {},
     "output_type": "execute_result"
    }
   ],
   "source": [
    "df.shape"
   ]
  },
  {
   "cell_type": "code",
   "execution_count": 5,
   "id": "1bc6508d-8501-46fd-aa5e-ccaa1fce64c3",
   "metadata": {},
   "outputs": [
    {
     "name": "stdout",
     "output_type": "stream",
     "text": [
      "<class 'pandas.core.frame.DataFrame'>\n",
      "RangeIndex: 606657 entries, 0 to 606656\n",
      "Data columns (total 45 columns):\n",
      " #   Column                   Non-Null Count   Dtype  \n",
      "---  ------                   --------------   -----  \n",
      " 0   emp_index                606657 non-null  object \n",
      " 1   cust_residence           606657 non-null  object \n",
      " 2   cust_gender              606657 non-null  object \n",
      " 3   age                      606657 non-null  int64  \n",
      " 4   new_cust_index           606657 non-null  float64\n",
      " 5   cust_seniority           606657 non-null  int64  \n",
      " 6   indrel                   606657 non-null  float64\n",
      " 7   cust_type                606657 non-null  float64\n",
      " 8   cust_rel_time            606657 non-null  object \n",
      " 9   cust_res_index           606657 non-null  int64  \n",
      " 10  is_foreign               606657 non-null  int64  \n",
      " 11  channel_to_join          606657 non-null  object \n",
      " 12  deceased_index           606657 non-null  int64  \n",
      " 13  name_province            606657 non-null  object \n",
      " 14  activity_index           606657 non-null  float64\n",
      " 15  household_income         606657 non-null  float64\n",
      " 16  saving_acc               606657 non-null  int64  \n",
      " 17  guarantees               606657 non-null  int64  \n",
      " 18  current_acc              606657 non-null  int64  \n",
      " 19  derivada_acc             606657 non-null  int64  \n",
      " 20  payroll_acc              606657 non-null  int64  \n",
      " 21  junior_acc               606657 non-null  int64  \n",
      " 22  mass_particular_acc      606657 non-null  int64  \n",
      " 23  particular_acc           606657 non-null  int64  \n",
      " 24  particular_plus_acc      606657 non-null  int64  \n",
      " 25  short_term_deposit       606657 non-null  int64  \n",
      " 26  medium_term_deposits     606657 non-null  int64  \n",
      " 27  long_term_deposits       606657 non-null  int64  \n",
      " 28  e_account                606657 non-null  int64  \n",
      " 29  funds                    606657 non-null  int64  \n",
      " 30  mortgage                 606657 non-null  int64  \n",
      " 31  pensions1                606657 non-null  int64  \n",
      " 32  loans                    606657 non-null  int64  \n",
      " 33  taxes                    606657 non-null  int64  \n",
      " 34  credit_card              606657 non-null  int64  \n",
      " 35  securities               606657 non-null  int64  \n",
      " 36  home_account             606657 non-null  int64  \n",
      " 37  payroll                  606657 non-null  float64\n",
      " 38  pensions2                606657 non-null  float64\n",
      " 39  direct_debit             606657 non-null  int64  \n",
      " 40  first_holder_date_year   606657 non-null  int64  \n",
      " 41  first_holder_date_month  606657 non-null  int64  \n",
      " 42  first_holder_date_day    606657 non-null  int64  \n",
      " 43  total_accounts           606657 non-null  float64\n",
      " 44  dup_rows_count           606657 non-null  int64  \n",
      "dtypes: float64(8), int64(31), object(6)\n",
      "memory usage: 208.3+ MB\n"
     ]
    }
   ],
   "source": [
    "df.info()"
   ]
  },
  {
   "cell_type": "code",
   "execution_count": 6,
   "id": "3b9edbd6-b693-4b7a-9058-0322c78aec7d",
   "metadata": {},
   "outputs": [
    {
     "data": {
      "text/plain": [
       "count    606657.000000\n",
       "mean          1.640566\n",
       "std           1.312099\n",
       "min           0.000000\n",
       "25%           1.000000\n",
       "50%           1.000000\n",
       "75%           2.000000\n",
       "max          14.000000\n",
       "Name: total_accounts, dtype: float64"
      ]
     },
     "execution_count": 6,
     "metadata": {},
     "output_type": "execute_result"
    }
   ],
   "source": [
    "df['total_accounts'].describe()"
   ]
  },
  {
   "cell_type": "code",
   "execution_count": 7,
   "id": "6cafb5ca-5ffa-482d-91d3-adef13203b5b",
   "metadata": {},
   "outputs": [
    {
     "data": {
      "text/plain": [
       "emp_index                  0\n",
       "cust_residence             0\n",
       "cust_gender                0\n",
       "age                        0\n",
       "new_cust_index             0\n",
       "cust_seniority             0\n",
       "indrel                     0\n",
       "cust_type                  0\n",
       "cust_rel_time              0\n",
       "cust_res_index             0\n",
       "is_foreign                 0\n",
       "channel_to_join            0\n",
       "deceased_index             0\n",
       "name_province              0\n",
       "activity_index             0\n",
       "household_income           0\n",
       "saving_acc                 0\n",
       "guarantees                 0\n",
       "current_acc                0\n",
       "derivada_acc               0\n",
       "payroll_acc                0\n",
       "junior_acc                 0\n",
       "mass_particular_acc        0\n",
       "particular_acc             0\n",
       "particular_plus_acc        0\n",
       "short_term_deposit         0\n",
       "medium_term_deposits       0\n",
       "long_term_deposits         0\n",
       "e_account                  0\n",
       "funds                      0\n",
       "mortgage                   0\n",
       "pensions1                  0\n",
       "loans                      0\n",
       "taxes                      0\n",
       "credit_card                0\n",
       "securities                 0\n",
       "home_account               0\n",
       "payroll                    0\n",
       "pensions2                  0\n",
       "direct_debit               0\n",
       "first_holder_date_year     0\n",
       "first_holder_date_month    0\n",
       "first_holder_date_day      0\n",
       "total_accounts             0\n",
       "dup_rows_count             0\n",
       "dtype: int64"
      ]
     },
     "execution_count": 7,
     "metadata": {},
     "output_type": "execute_result"
    }
   ],
   "source": [
    "df.isnull().sum()"
   ]
  },
  {
   "cell_type": "code",
   "execution_count": 8,
   "id": "0e87f27f-a6ae-4737-ac43-7478d93c4e0e",
   "metadata": {},
   "outputs": [
    {
     "data": {
      "text/html": [
       "<div>\n",
       "<style scoped>\n",
       "    .dataframe tbody tr th:only-of-type {\n",
       "        vertical-align: middle;\n",
       "    }\n",
       "\n",
       "    .dataframe tbody tr th {\n",
       "        vertical-align: top;\n",
       "    }\n",
       "\n",
       "    .dataframe thead th {\n",
       "        text-align: right;\n",
       "    }\n",
       "</style>\n",
       "<table border=\"1\" class=\"dataframe\">\n",
       "  <thead>\n",
       "    <tr style=\"text-align: right;\">\n",
       "      <th></th>\n",
       "      <th>age</th>\n",
       "      <th>household_income</th>\n",
       "      <th>total_accounts</th>\n",
       "    </tr>\n",
       "  </thead>\n",
       "  <tbody>\n",
       "    <tr>\n",
       "      <th>0</th>\n",
       "      <td>35</td>\n",
       "      <td>87218.10</td>\n",
       "      <td>1.0</td>\n",
       "    </tr>\n",
       "    <tr>\n",
       "      <th>1</th>\n",
       "      <td>23</td>\n",
       "      <td>35548.74</td>\n",
       "      <td>1.0</td>\n",
       "    </tr>\n",
       "    <tr>\n",
       "      <th>2</th>\n",
       "      <td>23</td>\n",
       "      <td>122179.11</td>\n",
       "      <td>1.0</td>\n",
       "    </tr>\n",
       "    <tr>\n",
       "      <th>3</th>\n",
       "      <td>22</td>\n",
       "      <td>119775.54</td>\n",
       "      <td>1.0</td>\n",
       "    </tr>\n",
       "    <tr>\n",
       "      <th>4</th>\n",
       "      <td>23</td>\n",
       "      <td>100700.64</td>\n",
       "      <td>1.0</td>\n",
       "    </tr>\n",
       "  </tbody>\n",
       "</table>\n",
       "</div>"
      ],
      "text/plain": [
       "   age  household_income  total_accounts\n",
       "0   35          87218.10             1.0\n",
       "1   23          35548.74             1.0\n",
       "2   23         122179.11             1.0\n",
       "3   22         119775.54             1.0\n",
       "4   23         100700.64             1.0"
      ]
     },
     "execution_count": 8,
     "metadata": {},
     "output_type": "execute_result"
    }
   ],
   "source": [
    "df_new = df[['age', 'household_income', 'total_accounts']].copy()\n",
    "df_new.head()"
   ]
  },
  {
   "cell_type": "code",
   "execution_count": 9,
   "id": "d2487261-6b6b-48a0-b54b-9463816f634e",
   "metadata": {},
   "outputs": [],
   "source": [
    "X_train = df_new.values\n",
    "kmeans = KMeans(n_clusters=5, random_state=540)\n",
    "kmeans = kmeans.fit(X_train)"
   ]
  },
  {
   "cell_type": "code",
   "execution_count": 10,
   "id": "ecfed4a1-b6b4-4925-abfa-718a29a4710b",
   "metadata": {},
   "outputs": [
    {
     "name": "stdout",
     "output_type": "stream",
     "text": [
      "The innertia for : 2 Clusters is: 1.1757120440886222e+16\n",
      "The innertia for : 3 Clusters is: 8126848401849368.0\n",
      "The innertia for : 4 Clusters is: 5356215954952022.0\n",
      "The innertia for : 5 Clusters is: 3658422265554836.5\n",
      "The innertia for : 6 Clusters is: 2440789652124185.5\n"
     ]
    }
   ],
   "source": [
    "no_of_clusters = range(2,7) \n",
    "inertia = []\n",
    "\n",
    "for f in no_of_clusters:\n",
    "    kmeans = KMeans(n_clusters=f, random_state=2)\n",
    "    kmeans = kmeans.fit(X_train)\n",
    "    u = kmeans.inertia_\n",
    "    inertia.append(u)\n",
    "    print(\"The innertia for :\", f, \"Clusters is:\", u)"
   ]
  },
  {
   "cell_type": "code",
   "execution_count": 11,
   "id": "98500aad-221a-4f6b-9c4c-6eedc76bde52",
   "metadata": {},
   "outputs": [
    {
     "data": {
      "text/plain": [
       "Text(0.5, 1.0, 'Elbow Method')"
      ]
     },
     "execution_count": 11,
     "metadata": {},
     "output_type": "execute_result"
    },
    {
     "data": {
      "image/png": "[encoded data removed]",
      "text/plain": [
       "<Figure size 1152x432 with 1 Axes>"
      ]
     },
     "metadata": {
      "needs_background": "light"
     },
     "output_type": "display_data"
    }
   ],
   "source": [
    "fig, (ax1) = plt.subplots(1, figsize=(16,6))\n",
    "xx = np.arange(len(no_of_clusters))\n",
    "ax1.plot(xx, inertia)\n",
    "ax1.set_xticks(xx)\n",
    "ax1.set_xticklabels(no_of_clusters, rotation='vertical')\n",
    "plt.xlabel('Number of clusters')\n",
    "plt.ylabel('Inertia Score')\n",
    "plt.title(\"Elbow Method\")"
   ]
  },
  {
   "cell_type": "code",
   "execution_count": 12,
   "id": "7dffe06b-31b2-49f7-9726-d32e55f8cee6",
   "metadata": {},
   "outputs": [
    {
     "data": {
      "text/html": [
       "<div>\n",
       "<style scoped>\n",
       "    .dataframe tbody tr th:only-of-type {\n",
       "        vertical-align: middle;\n",
       "    }\n",
       "\n",
       "    .dataframe tbody tr th {\n",
       "        vertical-align: top;\n",
       "    }\n",
       "\n",
       "    .dataframe thead th {\n",
       "        text-align: right;\n",
       "    }\n",
       "</style>\n",
       "<table border=\"1\" class=\"dataframe\">\n",
       "  <thead>\n",
       "    <tr style=\"text-align: right;\">\n",
       "      <th></th>\n",
       "      <th>Cluster 0</th>\n",
       "      <th>Cluster 1</th>\n",
       "      <th>Cluster 2</th>\n",
       "      <th>Cluster 3</th>\n",
       "      <th>Cluster 4</th>\n",
       "    </tr>\n",
       "  </thead>\n",
       "  <tbody>\n",
       "    <tr>\n",
       "      <th>0</th>\n",
       "      <td>53380</td>\n",
       "      <td>552815</td>\n",
       "      <td>85</td>\n",
       "      <td>362</td>\n",
       "      <td>15</td>\n",
       "    </tr>\n",
       "  </tbody>\n",
       "</table>\n",
       "</div>"
      ],
      "text/plain": [
       "   Cluster 0  Cluster 1  Cluster 2  Cluster 3  Cluster 4\n",
       "0      53380     552815         85        362         15"
      ]
     },
     "execution_count": 12,
     "metadata": {},
     "output_type": "execute_result"
    }
   ],
   "source": [
    "kmeans = KMeans(n_clusters=5, random_state=2)\n",
    "kmeans = kmeans.fit(X_train)\n",
    "kmeans.labels_\n",
    "predictions = kmeans.predict(X_train)\n",
    "unique, counts = np.unique(predictions, return_counts=True)\n",
    "counts = counts.reshape(1,5)\n",
    "countscldf = pd.DataFrame(counts, columns = [\"Cluster 0\",\"Cluster 1\",\"Cluster 2\", \"Cluster 3\",\"Cluster 4\"])\n",
    "countscldf"
   ]
  },
  {
   "cell_type": "code",
   "execution_count": 13,
   "id": "b51cdcad-d9f0-4d5e-9239-9b4acd042f37",
   "metadata": {},
   "outputs": [
    {
     "data": {
      "text/plain": [
       "<Figure size 432x288 with 0 Axes>"
      ]
     },
     "metadata": {},
     "output_type": "display_data"
    },
    {
     "data": {
      "image/png": "[encoded data removed]",
      "text/plain": [
       "<Figure size 864x576 with 1 Axes>"
      ]
     },
     "metadata": {
      "needs_background": "light"
     },
     "output_type": "display_data"
    }
   ],
   "source": [
    "from sklearn.decomposition import PCA\n",
    "from sklearn.discriminant_analysis import LinearDiscriminantAnalysis\n",
    "\n",
    "X = X_train\n",
    "y_num = predictions\n",
    "\n",
    "target_names = [\"Cluster 1\",\"Cluster 2\",\"Cluster 3\", \"Cluster 4\",\"Cluster 5\"]\n",
    "\n",
    "pca = PCA(n_components=2, random_state = 453)\n",
    "X_r = pca.fit(X).transform(X)\n",
    "plt.figure()\n",
    "plt.figure(figsize=(12,8))\n",
    "colors = ['navy', 'turquoise', 'darkorange', 'red', 'black']\n",
    "lw = 2\n",
    "for color, i, target_name in zip(colors, [0, 1, 2, 3, 4], target_names):\n",
    "    plt.scatter(X_r[y_num == i, 0], X_r[y_num == i, 1], color=color, alpha=.8, lw=lw,label=target_name)\n",
    "    \n",
    "plt.legend(loc='best', shadow=False, scatterpoints=1)\n",
    "plt.legend(bbox_to_anchor=(1.05, 1), loc=2, borderaxespad=0.6)   \n",
    "plt.show()"
   ]
  }
 ],
 "metadata": {
  "kernelspec": {
   "display_name": "Python 3",
   "language": "python",
   "name": "python3"
  },
  "language_info": {
   "codemirror_mode": {
    "name": "ipython",
    "version": 3
   },
   "file_extension": ".py",
   "mimetype": "text/x-python",
   "name": "python",
   "nbconvert_exporter": "python",
   "pygments_lexer": "ipython3",
   "version": "3.8.8"
  }
 },
 "nbformat": 4,
 "nbformat_minor": 5
}
