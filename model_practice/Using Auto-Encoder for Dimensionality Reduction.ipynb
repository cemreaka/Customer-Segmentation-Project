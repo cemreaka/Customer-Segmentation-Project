{
 "cells": [
  {
   "cell_type": "code",
   "execution_count": null,
   "metadata": {},
   "outputs": [],
   "source": [
    "import pandas as pd\n",
    "import numpy as np\n",
    "import matplotlib.pyplot as plt\n",
    "\n",
    "# import plotly.express as px\n",
    "# import plotly.io as pio\n",
    "# template = 'simple_white'\n",
    "\n",
    "import seaborn as sns\n",
    "sns.set()\n",
    "\n",
    "from sklearn import metrics\n",
    "\n",
    "import warnings\n",
    "warnings.filterwarnings('ignore')\n",
    "\n",
    "plt.rcParams['axes.labelsize'] = 15\n",
    "plt.rcParams['axes.titlesize'] = 20\n",
    "\n",
    "seed = 42"
   ]
  },
  {
   "cell_type": "code",
   "execution_count": null,
   "metadata": {},
   "outputs": [],
   "source": [
    "df = pd.read_csv(\"C:/Users/joean/Desktop/Data Science/Personal Projects/df_preprocessed.csv\")\n",
    "df"
   ]
  },
  {
   "cell_type": "code",
   "execution_count": null,
   "metadata": {},
   "outputs": [],
   "source": [
    "df.info()"
   ]
  },
  {
   "cell_type": "code",
   "execution_count": null,
   "metadata": {},
   "outputs": [],
   "source": [
    "import pickle\n",
    "col_transformer = pickle.load(open('col_transformer.pkl', 'rb'))"
   ]
  },
  {
   "cell_type": "code",
   "execution_count": null,
   "metadata": {},
   "outputs": [],
   "source": [
    "from sklearn.pipeline import make_pipeline\n",
    "from sklearn.preprocessing import QuantileTransformer\n",
    "from sklearn.decomposition import PCA\n",
    "\n",
    "transformer = make_pipeline(\n",
    "    (col_transformer), \n",
    "    (QuantileTransformer(output_distribution = \"normal\", random_state = seed))\n",
    ")\n",
    "\n",
    "transformer"
   ]
  },
  {
   "cell_type": "code",
   "execution_count": null,
   "metadata": {},
   "outputs": [],
   "source": [
    "%%time\n",
    "from tensorflow import keras\n",
    "\n",
    "nl_st_encoder = keras.models.Sequential([\n",
    "    keras.layers.Dense(12, input_shape=[arr.shape[1]], activation='relu'),\n",
    "    keras.layers.Dense(9, activation='relu'),\n",
    "    keras.layers.Dense(3, activation='relu'),\n",
    "])\n",
    "\n",
    "nl_st_decoder = keras.models.Sequential([\n",
    "    keras.layers.Dense(9, input_shape=[3], activation='relu'),\n",
    "    keras.layers.Dense(12, activation='relu'),\n",
    "    keras.layers.Dense(arr.shape[1], activation='relu'),\n",
    "])\n",
    "\n",
    "nl_st_autoencoder = keras.models.Sequential([nl_st_encoder, nl_st_decoder])\n",
    "nl_st_autoencoder.compile(optimizer = \"adam\", loss = \"mean_squared_error\")\n",
    "nl_st_autoencoder.summary()\n",
    "\n",
    "\n",
    "history = nl_st_autoencoder.fit(arr,arr, epochs=100,\n",
    "                                callbacks=[keras.callbacks.EarlyStopping(patience=10)],verbose=1)\n",
    "\n",
    "labels = nl_st_encoder.predict(arr)"
   ]
  },
  {
   "cell_type": "code",
   "execution_count": null,
   "metadata": {},
   "outputs": [],
   "source": []
  }
 ],
 "metadata": {
  "kernelspec": {
   "display_name": "Python 3",
   "language": "python",
   "name": "python3"
  },
  "language_info": {
   "codemirror_mode": {
    "name": "ipython",
    "version": 3
   },
   "file_extension": ".py",
   "mimetype": "text/x-python",
   "name": "python",
   "nbconvert_exporter": "python",
   "pygments_lexer": "ipython3",
   "version": "3.8.5"
  }
 },
 "nbformat": 4,
 "nbformat_minor": 4
}
