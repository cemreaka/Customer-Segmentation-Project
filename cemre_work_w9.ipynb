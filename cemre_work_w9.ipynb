{
 "cells": [
  {
   "cell_type": "code",
   "execution_count": 1,
   "id": "ada49b1a-224f-4d99-8fe5-46f494431f73",
   "metadata": {},
   "outputs": [
    {
     "data": {
      "text/plain": [
       "'\\nInternship Batch: LISUM02\\n Specialization: Data Science\\n Group Name: Data Explorers\\n GitHub link: https://github.com/joeanton719/Customer-Segmentation-Project\\n Team member’s details:\\n- Joseph Antony\\n    o Email: joeanton719@gmail.com\\n    o Country: Turkey\\n    o Company: UrbanStat\\n- Melisa Gozet\\n    o Email: mgozet@gmail.com\\n    o Country: Turkey\\n    o College: Ankara University\\n- Dilem Unal\\n    o Email: diilemunal@gmail.com\\n    o Country: Turkey\\n    o College/Company: Istanbul Aydın University\\n- Aynur Cemre Aka\\n    o Email: cemreaka@gmail.com\\n    o Country: Turkey\\n    o College: Yaşar University\\n'"
      ]
     },
     "execution_count": 1,
     "metadata": {},
     "output_type": "execute_result"
    }
   ],
   "source": [
    "'''\n",
    "Internship Batch: LISUM02\n",
    " Specialization: Data Science\n",
    " Group Name: Data Explorers\n",
    " GitHub link: https://github.com/joeanton719/Customer-Segmentation-Project\n",
    " Team member’s details:\n",
    "- Joseph Antony\n",
    "    o Email: joeanton719@gmail.com\n",
    "    o Country: Turkey\n",
    "    o Company: UrbanStat\n",
    "- Melisa Gozet\n",
    "    o Email: mgozet@gmail.com\n",
    "    o Country: Turkey\n",
    "    o College: Ankara University\n",
    "- Dilem Unal\n",
    "    o Email: diilemunal@gmail.com\n",
    "    o Country: Turkey\n",
    "    o College/Company: Istanbul Aydın University\n",
    "- Aynur Cemre Aka\n",
    "    o Email: cemreaka@gmail.com\n",
    "    o Country: Turkey\n",
    "    o College: Yaşar University\n",
    "'''"
   ]
  },
  {
   "cell_type": "code",
   "execution_count": 2,
   "id": "a1e820bb-544e-4fea-859a-c7982eb01da8",
   "metadata": {},
   "outputs": [],
   "source": [
    "import pandas as pd\n",
    "import numpy as np"
   ]
  },
  {
   "cell_type": "code",
   "execution_count": 3,
   "id": "5e10282b-ff65-4a5d-bc2a-8a92ab4134d6",
   "metadata": {},
   "outputs": [
    {
     "name": "stderr",
     "output_type": "stream",
     "text": [
      "C:\\Users\\cemre\\anaconda3\\lib\\site-packages\\IPython\\core\\interactiveshell.py:3165: DtypeWarning: Columns (16) have mixed types.Specify dtype option on import or set low_memory=False.\n",
      "  has_raised = await self.run_ast_nodes(code_ast.body, cell_name,\n"
     ]
    }
   ],
   "source": [
    "df = pd.read_csv(\"cust_seg.csv\")"
   ]
  },
  {
   "cell_type": "code",
   "execution_count": 4,
   "id": "2c5e104e-240c-4340-a93d-383f0311417e",
   "metadata": {},
   "outputs": [
    {
     "name": "stdout",
     "output_type": "stream",
     "text": [
      "<class 'pandas.core.frame.DataFrame'>\n",
      "RangeIndex: 1000000 entries, 0 to 999999\n",
      "Data columns (total 48 columns):\n",
      " #   Column                 Non-Null Count    Dtype  \n",
      "---  ------                 --------------    -----  \n",
      " 0   Unnamed: 0             1000000 non-null  int64  \n",
      " 1   fecha_dato             1000000 non-null  object \n",
      " 2   ncodpers               1000000 non-null  int64  \n",
      " 3   ind_empleado           989218 non-null   object \n",
      " 4   pais_residencia        989218 non-null   object \n",
      " 5   sexo                   989214 non-null   object \n",
      " 6   age                    1000000 non-null  object \n",
      " 7   fecha_alta             989218 non-null   object \n",
      " 8   ind_nuevo              989218 non-null   float64\n",
      " 9   antiguedad             1000000 non-null  object \n",
      " 10  indrel                 989218 non-null   float64\n",
      " 11  ult_fec_cli_1t         1101 non-null     object \n",
      " 12  indrel_1mes            989218 non-null   float64\n",
      " 13  tiprel_1mes            989218 non-null   object \n",
      " 14  indresi                989218 non-null   object \n",
      " 15  indext                 989218 non-null   object \n",
      " 16  conyuemp               178 non-null      object \n",
      " 17  canal_entrada          989139 non-null   object \n",
      " 18  indfall                989218 non-null   object \n",
      " 19  tipodom                989218 non-null   float64\n",
      " 20  cod_prov               982266 non-null   float64\n",
      " 21  nomprov                982266 non-null   object \n",
      " 22  ind_actividad_cliente  989218 non-null   float64\n",
      " 23  renta                  824817 non-null   float64\n",
      " 24  ind_ahor_fin_ult1      1000000 non-null  int64  \n",
      " 25  ind_aval_fin_ult1      1000000 non-null  int64  \n",
      " 26  ind_cco_fin_ult1       1000000 non-null  int64  \n",
      " 27  ind_cder_fin_ult1      1000000 non-null  int64  \n",
      " 28  ind_cno_fin_ult1       1000000 non-null  int64  \n",
      " 29  ind_ctju_fin_ult1      1000000 non-null  int64  \n",
      " 30  ind_ctma_fin_ult1      1000000 non-null  int64  \n",
      " 31  ind_ctop_fin_ult1      1000000 non-null  int64  \n",
      " 32  ind_ctpp_fin_ult1      1000000 non-null  int64  \n",
      " 33  ind_deco_fin_ult1      1000000 non-null  int64  \n",
      " 34  ind_deme_fin_ult1      1000000 non-null  int64  \n",
      " 35  ind_dela_fin_ult1      1000000 non-null  int64  \n",
      " 36  ind_ecue_fin_ult1      1000000 non-null  int64  \n",
      " 37  ind_fond_fin_ult1      1000000 non-null  int64  \n",
      " 38  ind_hip_fin_ult1       1000000 non-null  int64  \n",
      " 39  ind_plan_fin_ult1      1000000 non-null  int64  \n",
      " 40  ind_pres_fin_ult1      1000000 non-null  int64  \n",
      " 41  ind_reca_fin_ult1      1000000 non-null  int64  \n",
      " 42  ind_tjcr_fin_ult1      1000000 non-null  int64  \n",
      " 43  ind_valo_fin_ult1      1000000 non-null  int64  \n",
      " 44  ind_viv_fin_ult1       1000000 non-null  int64  \n",
      " 45  ind_nomina_ult1        994598 non-null   float64\n",
      " 46  ind_nom_pens_ult1      994598 non-null   float64\n",
      " 47  ind_recibo_ult1        1000000 non-null  int64  \n",
      "dtypes: float64(9), int64(24), object(15)\n",
      "memory usage: 366.2+ MB\n"
     ]
    }
   ],
   "source": [
    "df.info()"
   ]
  },
  {
   "cell_type": "code",
   "execution_count": 5,
   "id": "92a32eec-732f-468d-9d95-5108813d89fb",
   "metadata": {},
   "outputs": [],
   "source": [
    "#changing attribute names\n",
    "df = df.rename(columns={'fecha_dato':'date', 'ncodpers':'cust_code', 'ind_empleado':'emp_index','pais_residencia':'cust_residence', 'indext':'is_foreign', 'sexo':'cust_gender', 'fecha_alta':'first_holder_date','ind_nuevo':'new_cust_index', 'antiguedad':'cust_seniority', 'ult_fec_cli_1t':'last_date_primary_cust', 'indrel_1mes':'cust_type', 'tiprel_1mes':'cust_rel_time', 'indresi':'cust_res_index','conyuemp':'cust_spouse_index','canal_entrada':'channel_to_join', 'nomprov':'name_prov','ind_actividad_cliente':'activity_index' ,'renta':'gross_income','tipodom':'addres_type','indfall':'deceased_index','ind_ahor_fin_ult1':'saving_acc', 'ind_aval_fin_ult1': 'guarantees', 'ind_cder_fin_ult1':'derivada_acc', 'ind_cno_fin_ult1':'payroll_acc','ind_ctju_fin_ult1':'junior_acc','ind_ctma_fin_ult1':'mass_particular_acc', 'ind_ctop_fin_ult1':'particular_acc','ind_ctpp_fin_ult1':'particular_plus_acc', 'ind_deco_fin_ult1':'short_term_deposit', 'ind_deme_fin_ult1':'long_term_deposit', 'ind_ecue_fin_ult1':'e_account', 'ind_fond_fin_ult1':'funds', 'ind_hip_fin_ult1':'mortgage', 'ind_plan_fin_ult1':'pensions1', 'ind_pres_fin_ult1':'loans', 'ind_reca_fin_ult1':'taxes', 'ind_tjcr_fin_ult1':'credit_card', 'ind_valo_fin_ult1':'securities', 'ind_viv_fin_ult1':'home_account','ind_cco_fin_ult1':'current_acc', 'ind_nomina_ult1':'payroll', 'ind_nom_pens_ult1':'pensions2', 'ind_recibo_ult1':'direct_debit'        })"
   ]
  },
  {
   "cell_type": "code",
   "execution_count": 6,
   "id": "8f61dab6-9de4-4b9e-9be1-673905718864",
   "metadata": {},
   "outputs": [
    {
     "name": "stdout",
     "output_type": "stream",
     "text": [
      "<class 'pandas.core.frame.DataFrame'>\n",
      "RangeIndex: 1000000 entries, 0 to 999999\n",
      "Data columns (total 48 columns):\n",
      " #   Column                  Non-Null Count    Dtype  \n",
      "---  ------                  --------------    -----  \n",
      " 0   Unnamed: 0              1000000 non-null  int64  \n",
      " 1   date                    1000000 non-null  object \n",
      " 2   cust_code               1000000 non-null  int64  \n",
      " 3   emp_index               989218 non-null   object \n",
      " 4   cust_residence          989218 non-null   object \n",
      " 5   cust_gender             989214 non-null   object \n",
      " 6   age                     1000000 non-null  object \n",
      " 7   first_holder_date       989218 non-null   object \n",
      " 8   new_cust_index          989218 non-null   float64\n",
      " 9   cust_seniority          1000000 non-null  object \n",
      " 10  indrel                  989218 non-null   float64\n",
      " 11  last_date_primary_cust  1101 non-null     object \n",
      " 12  cust_type               989218 non-null   float64\n",
      " 13  cust_rel_time           989218 non-null   object \n",
      " 14  cust_res_index          989218 non-null   object \n",
      " 15  is_foreign              989218 non-null   object \n",
      " 16  cust_spouse_index       178 non-null      object \n",
      " 17  channel_to_join         989139 non-null   object \n",
      " 18  deceased_index          989218 non-null   object \n",
      " 19  addres_type             989218 non-null   float64\n",
      " 20  cod_prov                982266 non-null   float64\n",
      " 21  name_prov               982266 non-null   object \n",
      " 22  activity_index          989218 non-null   float64\n",
      " 23  gross_income            824817 non-null   float64\n",
      " 24  saving_acc              1000000 non-null  int64  \n",
      " 25  guarantees              1000000 non-null  int64  \n",
      " 26  current_acc             1000000 non-null  int64  \n",
      " 27  derivada_acc            1000000 non-null  int64  \n",
      " 28  payroll_acc             1000000 non-null  int64  \n",
      " 29  junior_acc              1000000 non-null  int64  \n",
      " 30  mass_particular_acc     1000000 non-null  int64  \n",
      " 31  particular_acc          1000000 non-null  int64  \n",
      " 32  particular_plus_acc     1000000 non-null  int64  \n",
      " 33  short_term_deposit      1000000 non-null  int64  \n",
      " 34  long_term_deposit       1000000 non-null  int64  \n",
      " 35  ind_dela_fin_ult1       1000000 non-null  int64  \n",
      " 36  e_account               1000000 non-null  int64  \n",
      " 37  funds                   1000000 non-null  int64  \n",
      " 38  mortgage                1000000 non-null  int64  \n",
      " 39  pensions1               1000000 non-null  int64  \n",
      " 40  loans                   1000000 non-null  int64  \n",
      " 41  taxes                   1000000 non-null  int64  \n",
      " 42  credit_card             1000000 non-null  int64  \n",
      " 43  securities              1000000 non-null  int64  \n",
      " 44  home_account            1000000 non-null  int64  \n",
      " 45  payroll                 994598 non-null   float64\n",
      " 46  pensions2               994598 non-null   float64\n",
      " 47  direct_debit            1000000 non-null  int64  \n",
      "dtypes: float64(9), int64(24), object(15)\n",
      "memory usage: 366.2+ MB\n"
     ]
    }
   ],
   "source": [
    "df.info()"
   ]
  },
  {
   "cell_type": "code",
   "execution_count": 7,
   "id": "7e913a4b-85f4-430d-b3f6-d07f382597fc",
   "metadata": {},
   "outputs": [],
   "source": [
    "#setting date formats\n",
    "df['date'] = pd.to_datetime(df['date'], format = '%Y/%m/%d')\n",
    "df['first_holder_date'] = pd.to_datetime(df['first_holder_date'], format = '%Y/%m/%d')"
   ]
  },
  {
   "cell_type": "code",
   "execution_count": 8,
   "id": "ecf84de2-467d-4aad-9935-b40a27451d34",
   "metadata": {},
   "outputs": [
    {
     "data": {
      "text/plain": [
       "Unnamed: 0                     0\n",
       "date                           0\n",
       "cust_code                      0\n",
       "emp_index                  10782\n",
       "cust_residence             10782\n",
       "cust_gender                10786\n",
       "age                            0\n",
       "first_holder_date          10782\n",
       "new_cust_index             10782\n",
       "cust_seniority                 0\n",
       "indrel                     10782\n",
       "last_date_primary_cust    998899\n",
       "cust_type                  10782\n",
       "cust_rel_time              10782\n",
       "cust_res_index             10782\n",
       "is_foreign                 10782\n",
       "cust_spouse_index         999822\n",
       "channel_to_join            10861\n",
       "deceased_index             10782\n",
       "addres_type                10782\n",
       "cod_prov                   17734\n",
       "name_prov                  17734\n",
       "activity_index             10782\n",
       "gross_income              175183\n",
       "saving_acc                     0\n",
       "guarantees                     0\n",
       "current_acc                    0\n",
       "derivada_acc                   0\n",
       "payroll_acc                    0\n",
       "junior_acc                     0\n",
       "mass_particular_acc            0\n",
       "particular_acc                 0\n",
       "particular_plus_acc            0\n",
       "short_term_deposit             0\n",
       "long_term_deposit              0\n",
       "ind_dela_fin_ult1              0\n",
       "e_account                      0\n",
       "funds                          0\n",
       "mortgage                       0\n",
       "pensions1                      0\n",
       "loans                          0\n",
       "taxes                          0\n",
       "credit_card                    0\n",
       "securities                     0\n",
       "home_account                   0\n",
       "payroll                     5402\n",
       "pensions2                   5402\n",
       "direct_debit                   0\n",
       "dtype: int64"
      ]
     },
     "execution_count": 8,
     "metadata": {},
     "output_type": "execute_result"
    }
   ],
   "source": [
    "df.isna().sum()"
   ]
  },
  {
   "cell_type": "code",
   "execution_count": 9,
   "id": "447cda46-0614-48ad-9bc4-7ab1b787601e",
   "metadata": {},
   "outputs": [],
   "source": [
    "#handling NA values\n",
    "df['emp_index'] = df['emp_index'].fillna('N') #not employee\n",
    "df = df[df['cust_residence'].notna()]\n",
    "df = df[df['cust_gender'].notna()]\n",
    "df['age'] = df['age'].fillna(df['age'].mode()) #most frequent value\n",
    "df['new_cust_index'] = df['new_cust_index'].fillna(1)\n",
    "df = df[df['payroll'].notna()]\n",
    "df = df.drop('first_holder_date', axis = 1) #not needed\n",
    "df = df.drop('channel_to_join', axis = 1) #not needed\n",
    "df[\"cust_spouse_index\"] = df[\"cust_spouse_index\"].fillna('N')\n",
    "df = df[df['cod_prov'].notna()]\n",
    "df = df[df['name_prov'].notna()]\n",
    "df = df.drop(\"Unnamed: 0\", axis=1)"
   ]
  },
  {
   "cell_type": "code",
   "execution_count": 10,
   "id": "40f76291-76f4-421f-9e8f-9737350ede0a",
   "metadata": {},
   "outputs": [],
   "source": [
    "df['last_date_primary_cust'] = df['last_date_primary_cust'].fillna(0) #lots of NA values, I converted this attritube to boolean (is ever primary customer? 0 = no, 1 = yes)\n",
    "df.loc[df['last_date_primary_cust'] != 0, 'last_date_primary_cust'] = 1\n",
    "df = df.rename(columns = {'last_date_primary_cust':'is_ever_primary_cust'})"
   ]
  },
  {
   "cell_type": "code",
   "execution_count": 11,
   "id": "d1856e1e-47f3-4fc6-8f1f-7779d7953630",
   "metadata": {},
   "outputs": [],
   "source": [
    "df[\"gross_income\"] = df[\"gross_income\"].fillna(df[\"gross_income\"].mean()) #replace NA values with the mean of the gross income"
   ]
  },
  {
   "cell_type": "code",
   "execution_count": 12,
   "id": "3ad5dd1e-68f8-49b9-9827-0de0b542efe6",
   "metadata": {},
   "outputs": [
    {
     "data": {
      "text/plain": [
       "date                    0\n",
       "cust_code               0\n",
       "emp_index               0\n",
       "cust_residence          0\n",
       "cust_gender             0\n",
       "age                     0\n",
       "new_cust_index          0\n",
       "cust_seniority          0\n",
       "indrel                  0\n",
       "is_ever_primary_cust    0\n",
       "cust_type               0\n",
       "cust_rel_time           0\n",
       "cust_res_index          0\n",
       "is_foreign              0\n",
       "cust_spouse_index       0\n",
       "deceased_index          0\n",
       "addres_type             0\n",
       "cod_prov                0\n",
       "name_prov               0\n",
       "activity_index          0\n",
       "gross_income            0\n",
       "saving_acc              0\n",
       "guarantees              0\n",
       "current_acc             0\n",
       "derivada_acc            0\n",
       "payroll_acc             0\n",
       "junior_acc              0\n",
       "mass_particular_acc     0\n",
       "particular_acc          0\n",
       "particular_plus_acc     0\n",
       "short_term_deposit      0\n",
       "long_term_deposit       0\n",
       "ind_dela_fin_ult1       0\n",
       "e_account               0\n",
       "funds                   0\n",
       "mortgage                0\n",
       "pensions1               0\n",
       "loans                   0\n",
       "taxes                   0\n",
       "credit_card             0\n",
       "securities              0\n",
       "home_account            0\n",
       "payroll                 0\n",
       "pensions2               0\n",
       "direct_debit            0\n",
       "dtype: int64"
      ]
     },
     "execution_count": 12,
     "metadata": {},
     "output_type": "execute_result"
    }
   ],
   "source": [
    "df.isna().sum()"
   ]
  },
  {
   "cell_type": "code",
   "execution_count": 13,
   "id": "8bd32064-67bf-4405-8ff1-fcc9c93d0d20",
   "metadata": {},
   "outputs": [
    {
     "data": {
      "text/html": [
       "<div>\n",
       "<style scoped>\n",
       "    .dataframe tbody tr th:only-of-type {\n",
       "        vertical-align: middle;\n",
       "    }\n",
       "\n",
       "    .dataframe tbody tr th {\n",
       "        vertical-align: top;\n",
       "    }\n",
       "\n",
       "    .dataframe thead th {\n",
       "        text-align: right;\n",
       "    }\n",
       "</style>\n",
       "<table border=\"1\" class=\"dataframe\">\n",
       "  <thead>\n",
       "    <tr style=\"text-align: right;\">\n",
       "      <th></th>\n",
       "      <th>date</th>\n",
       "      <th>cust_code</th>\n",
       "      <th>emp_index</th>\n",
       "      <th>cust_residence</th>\n",
       "      <th>cust_gender</th>\n",
       "      <th>age</th>\n",
       "      <th>new_cust_index</th>\n",
       "      <th>cust_seniority</th>\n",
       "      <th>indrel</th>\n",
       "      <th>is_ever_primary_cust</th>\n",
       "      <th>...</th>\n",
       "      <th>mortgage</th>\n",
       "      <th>pensions1</th>\n",
       "      <th>loans</th>\n",
       "      <th>taxes</th>\n",
       "      <th>credit_card</th>\n",
       "      <th>securities</th>\n",
       "      <th>home_account</th>\n",
       "      <th>payroll</th>\n",
       "      <th>pensions2</th>\n",
       "      <th>direct_debit</th>\n",
       "    </tr>\n",
       "  </thead>\n",
       "  <tbody>\n",
       "    <tr>\n",
       "      <th>0</th>\n",
       "      <td>2015-01-28</td>\n",
       "      <td>1375586</td>\n",
       "      <td>N</td>\n",
       "      <td>ES</td>\n",
       "      <td>H</td>\n",
       "      <td>35</td>\n",
       "      <td>0.0</td>\n",
       "      <td>6</td>\n",
       "      <td>1.0</td>\n",
       "      <td>0</td>\n",
       "      <td>...</td>\n",
       "      <td>0</td>\n",
       "      <td>0</td>\n",
       "      <td>0</td>\n",
       "      <td>0</td>\n",
       "      <td>0</td>\n",
       "      <td>0</td>\n",
       "      <td>0</td>\n",
       "      <td>0.0</td>\n",
       "      <td>0.0</td>\n",
       "      <td>0</td>\n",
       "    </tr>\n",
       "    <tr>\n",
       "      <th>1</th>\n",
       "      <td>2015-01-28</td>\n",
       "      <td>1050611</td>\n",
       "      <td>N</td>\n",
       "      <td>ES</td>\n",
       "      <td>V</td>\n",
       "      <td>23</td>\n",
       "      <td>0.0</td>\n",
       "      <td>35</td>\n",
       "      <td>1.0</td>\n",
       "      <td>0</td>\n",
       "      <td>...</td>\n",
       "      <td>0</td>\n",
       "      <td>0</td>\n",
       "      <td>0</td>\n",
       "      <td>0</td>\n",
       "      <td>0</td>\n",
       "      <td>0</td>\n",
       "      <td>0</td>\n",
       "      <td>0.0</td>\n",
       "      <td>0.0</td>\n",
       "      <td>0</td>\n",
       "    </tr>\n",
       "    <tr>\n",
       "      <th>2</th>\n",
       "      <td>2015-01-28</td>\n",
       "      <td>1050612</td>\n",
       "      <td>N</td>\n",
       "      <td>ES</td>\n",
       "      <td>V</td>\n",
       "      <td>23</td>\n",
       "      <td>0.0</td>\n",
       "      <td>35</td>\n",
       "      <td>1.0</td>\n",
       "      <td>0</td>\n",
       "      <td>...</td>\n",
       "      <td>0</td>\n",
       "      <td>0</td>\n",
       "      <td>0</td>\n",
       "      <td>0</td>\n",
       "      <td>0</td>\n",
       "      <td>0</td>\n",
       "      <td>0</td>\n",
       "      <td>0.0</td>\n",
       "      <td>0.0</td>\n",
       "      <td>0</td>\n",
       "    </tr>\n",
       "    <tr>\n",
       "      <th>3</th>\n",
       "      <td>2015-01-28</td>\n",
       "      <td>1050613</td>\n",
       "      <td>N</td>\n",
       "      <td>ES</td>\n",
       "      <td>H</td>\n",
       "      <td>22</td>\n",
       "      <td>0.0</td>\n",
       "      <td>35</td>\n",
       "      <td>1.0</td>\n",
       "      <td>0</td>\n",
       "      <td>...</td>\n",
       "      <td>0</td>\n",
       "      <td>0</td>\n",
       "      <td>0</td>\n",
       "      <td>0</td>\n",
       "      <td>0</td>\n",
       "      <td>0</td>\n",
       "      <td>0</td>\n",
       "      <td>0.0</td>\n",
       "      <td>0.0</td>\n",
       "      <td>0</td>\n",
       "    </tr>\n",
       "    <tr>\n",
       "      <th>4</th>\n",
       "      <td>2015-01-28</td>\n",
       "      <td>1050614</td>\n",
       "      <td>N</td>\n",
       "      <td>ES</td>\n",
       "      <td>V</td>\n",
       "      <td>23</td>\n",
       "      <td>0.0</td>\n",
       "      <td>35</td>\n",
       "      <td>1.0</td>\n",
       "      <td>0</td>\n",
       "      <td>...</td>\n",
       "      <td>0</td>\n",
       "      <td>0</td>\n",
       "      <td>0</td>\n",
       "      <td>0</td>\n",
       "      <td>0</td>\n",
       "      <td>0</td>\n",
       "      <td>0</td>\n",
       "      <td>0.0</td>\n",
       "      <td>0.0</td>\n",
       "      <td>0</td>\n",
       "    </tr>\n",
       "  </tbody>\n",
       "</table>\n",
       "<p>5 rows × 45 columns</p>\n",
       "</div>"
      ],
      "text/plain": [
       "        date  cust_code emp_index cust_residence cust_gender  age  \\\n",
       "0 2015-01-28    1375586         N             ES           H   35   \n",
       "1 2015-01-28    1050611         N             ES           V   23   \n",
       "2 2015-01-28    1050612         N             ES           V   23   \n",
       "3 2015-01-28    1050613         N             ES           H   22   \n",
       "4 2015-01-28    1050614         N             ES           V   23   \n",
       "\n",
       "   new_cust_index cust_seniority  indrel is_ever_primary_cust  ...  mortgage  \\\n",
       "0             0.0              6     1.0                    0  ...         0   \n",
       "1             0.0             35     1.0                    0  ...         0   \n",
       "2             0.0             35     1.0                    0  ...         0   \n",
       "3             0.0             35     1.0                    0  ...         0   \n",
       "4             0.0             35     1.0                    0  ...         0   \n",
       "\n",
       "  pensions1 loans taxes credit_card securities  home_account  payroll  \\\n",
       "0         0     0     0           0          0             0      0.0   \n",
       "1         0     0     0           0          0             0      0.0   \n",
       "2         0     0     0           0          0             0      0.0   \n",
       "3         0     0     0           0          0             0      0.0   \n",
       "4         0     0     0           0          0             0      0.0   \n",
       "\n",
       "  pensions2  direct_debit  \n",
       "0       0.0             0  \n",
       "1       0.0             0  \n",
       "2       0.0             0  \n",
       "3       0.0             0  \n",
       "4       0.0             0  \n",
       "\n",
       "[5 rows x 45 columns]"
      ]
     },
     "execution_count": 13,
     "metadata": {},
     "output_type": "execute_result"
    }
   ],
   "source": [
    "df.head()"
   ]
  },
  {
   "cell_type": "code",
   "execution_count": 14,
   "id": "0af0cff4-1835-473a-a5ee-ff99e1e39c3d",
   "metadata": {},
   "outputs": [],
   "source": [
    "df.cust_gender = df.cust_gender.replace({'H': 'M', 'V':'F'})"
   ]
  },
  {
   "cell_type": "code",
   "execution_count": 15,
   "id": "abb9983b-bebd-4eb1-9abe-8b1774e11785",
   "metadata": {},
   "outputs": [],
   "source": [
    "df.cust_res_index = df.cust_res_index.replace({'S': 'Y'})"
   ]
  },
  {
   "cell_type": "code",
   "execution_count": 16,
   "id": "2151e11f-3933-4a04-9175-4cb28843a6d6",
   "metadata": {},
   "outputs": [],
   "source": [
    "df.is_foreign = df.is_foreign.replace({'S': 'Y'})"
   ]
  },
  {
   "cell_type": "code",
   "execution_count": 17,
   "id": "039e8bdb-0d21-41f8-a9de-a81c695947be",
   "metadata": {},
   "outputs": [],
   "source": [
    "df.deceased_index = df.deceased_index.replace({'S':'Y'})"
   ]
  },
  {
   "cell_type": "code",
   "execution_count": 18,
   "id": "67ad8aee-32cf-4e51-8c35-d670c657036e",
   "metadata": {},
   "outputs": [
    {
     "data": {
      "text/html": [
       "<div>\n",
       "<style scoped>\n",
       "    .dataframe tbody tr th:only-of-type {\n",
       "        vertical-align: middle;\n",
       "    }\n",
       "\n",
       "    .dataframe tbody tr th {\n",
       "        vertical-align: top;\n",
       "    }\n",
       "\n",
       "    .dataframe thead th {\n",
       "        text-align: right;\n",
       "    }\n",
       "</style>\n",
       "<table border=\"1\" class=\"dataframe\">\n",
       "  <thead>\n",
       "    <tr style=\"text-align: right;\">\n",
       "      <th></th>\n",
       "      <th>date</th>\n",
       "      <th>cust_code</th>\n",
       "      <th>emp_index</th>\n",
       "      <th>cust_residence</th>\n",
       "      <th>cust_gender</th>\n",
       "      <th>age</th>\n",
       "      <th>new_cust_index</th>\n",
       "      <th>cust_seniority</th>\n",
       "      <th>indrel</th>\n",
       "      <th>is_ever_primary_cust</th>\n",
       "      <th>...</th>\n",
       "      <th>mortgage</th>\n",
       "      <th>pensions1</th>\n",
       "      <th>loans</th>\n",
       "      <th>taxes</th>\n",
       "      <th>credit_card</th>\n",
       "      <th>securities</th>\n",
       "      <th>home_account</th>\n",
       "      <th>payroll</th>\n",
       "      <th>pensions2</th>\n",
       "      <th>direct_debit</th>\n",
       "    </tr>\n",
       "  </thead>\n",
       "  <tbody>\n",
       "    <tr>\n",
       "      <th>0</th>\n",
       "      <td>2015-01-28</td>\n",
       "      <td>1375586</td>\n",
       "      <td>N</td>\n",
       "      <td>ES</td>\n",
       "      <td>M</td>\n",
       "      <td>35</td>\n",
       "      <td>0.0</td>\n",
       "      <td>6</td>\n",
       "      <td>1.0</td>\n",
       "      <td>0</td>\n",
       "      <td>...</td>\n",
       "      <td>0</td>\n",
       "      <td>0</td>\n",
       "      <td>0</td>\n",
       "      <td>0</td>\n",
       "      <td>0</td>\n",
       "      <td>0</td>\n",
       "      <td>0</td>\n",
       "      <td>0.0</td>\n",
       "      <td>0.0</td>\n",
       "      <td>0</td>\n",
       "    </tr>\n",
       "    <tr>\n",
       "      <th>1</th>\n",
       "      <td>2015-01-28</td>\n",
       "      <td>1050611</td>\n",
       "      <td>N</td>\n",
       "      <td>ES</td>\n",
       "      <td>F</td>\n",
       "      <td>23</td>\n",
       "      <td>0.0</td>\n",
       "      <td>35</td>\n",
       "      <td>1.0</td>\n",
       "      <td>0</td>\n",
       "      <td>...</td>\n",
       "      <td>0</td>\n",
       "      <td>0</td>\n",
       "      <td>0</td>\n",
       "      <td>0</td>\n",
       "      <td>0</td>\n",
       "      <td>0</td>\n",
       "      <td>0</td>\n",
       "      <td>0.0</td>\n",
       "      <td>0.0</td>\n",
       "      <td>0</td>\n",
       "    </tr>\n",
       "    <tr>\n",
       "      <th>2</th>\n",
       "      <td>2015-01-28</td>\n",
       "      <td>1050612</td>\n",
       "      <td>N</td>\n",
       "      <td>ES</td>\n",
       "      <td>F</td>\n",
       "      <td>23</td>\n",
       "      <td>0.0</td>\n",
       "      <td>35</td>\n",
       "      <td>1.0</td>\n",
       "      <td>0</td>\n",
       "      <td>...</td>\n",
       "      <td>0</td>\n",
       "      <td>0</td>\n",
       "      <td>0</td>\n",
       "      <td>0</td>\n",
       "      <td>0</td>\n",
       "      <td>0</td>\n",
       "      <td>0</td>\n",
       "      <td>0.0</td>\n",
       "      <td>0.0</td>\n",
       "      <td>0</td>\n",
       "    </tr>\n",
       "    <tr>\n",
       "      <th>3</th>\n",
       "      <td>2015-01-28</td>\n",
       "      <td>1050613</td>\n",
       "      <td>N</td>\n",
       "      <td>ES</td>\n",
       "      <td>M</td>\n",
       "      <td>22</td>\n",
       "      <td>0.0</td>\n",
       "      <td>35</td>\n",
       "      <td>1.0</td>\n",
       "      <td>0</td>\n",
       "      <td>...</td>\n",
       "      <td>0</td>\n",
       "      <td>0</td>\n",
       "      <td>0</td>\n",
       "      <td>0</td>\n",
       "      <td>0</td>\n",
       "      <td>0</td>\n",
       "      <td>0</td>\n",
       "      <td>0.0</td>\n",
       "      <td>0.0</td>\n",
       "      <td>0</td>\n",
       "    </tr>\n",
       "    <tr>\n",
       "      <th>4</th>\n",
       "      <td>2015-01-28</td>\n",
       "      <td>1050614</td>\n",
       "      <td>N</td>\n",
       "      <td>ES</td>\n",
       "      <td>F</td>\n",
       "      <td>23</td>\n",
       "      <td>0.0</td>\n",
       "      <td>35</td>\n",
       "      <td>1.0</td>\n",
       "      <td>0</td>\n",
       "      <td>...</td>\n",
       "      <td>0</td>\n",
       "      <td>0</td>\n",
       "      <td>0</td>\n",
       "      <td>0</td>\n",
       "      <td>0</td>\n",
       "      <td>0</td>\n",
       "      <td>0</td>\n",
       "      <td>0.0</td>\n",
       "      <td>0.0</td>\n",
       "      <td>0</td>\n",
       "    </tr>\n",
       "  </tbody>\n",
       "</table>\n",
       "<p>5 rows × 45 columns</p>\n",
       "</div>"
      ],
      "text/plain": [
       "        date  cust_code emp_index cust_residence cust_gender  age  \\\n",
       "0 2015-01-28    1375586         N             ES           M   35   \n",
       "1 2015-01-28    1050611         N             ES           F   23   \n",
       "2 2015-01-28    1050612         N             ES           F   23   \n",
       "3 2015-01-28    1050613         N             ES           M   22   \n",
       "4 2015-01-28    1050614         N             ES           F   23   \n",
       "\n",
       "   new_cust_index cust_seniority  indrel is_ever_primary_cust  ...  mortgage  \\\n",
       "0             0.0              6     1.0                    0  ...         0   \n",
       "1             0.0             35     1.0                    0  ...         0   \n",
       "2             0.0             35     1.0                    0  ...         0   \n",
       "3             0.0             35     1.0                    0  ...         0   \n",
       "4             0.0             35     1.0                    0  ...         0   \n",
       "\n",
       "  pensions1 loans taxes credit_card securities  home_account  payroll  \\\n",
       "0         0     0     0           0          0             0      0.0   \n",
       "1         0     0     0           0          0             0      0.0   \n",
       "2         0     0     0           0          0             0      0.0   \n",
       "3         0     0     0           0          0             0      0.0   \n",
       "4         0     0     0           0          0             0      0.0   \n",
       "\n",
       "  pensions2  direct_debit  \n",
       "0       0.0             0  \n",
       "1       0.0             0  \n",
       "2       0.0             0  \n",
       "3       0.0             0  \n",
       "4       0.0             0  \n",
       "\n",
       "[5 rows x 45 columns]"
      ]
     },
     "execution_count": 18,
     "metadata": {},
     "output_type": "execute_result"
    }
   ],
   "source": [
    "df.head()"
   ]
  },
  {
   "cell_type": "code",
   "execution_count": 19,
   "id": "1da8871d-60d7-4692-955a-0216a176a264",
   "metadata": {},
   "outputs": [
    {
     "data": {
      "text/html": [
       "<div>\n",
       "<style scoped>\n",
       "    .dataframe tbody tr th:only-of-type {\n",
       "        vertical-align: middle;\n",
       "    }\n",
       "\n",
       "    .dataframe tbody tr th {\n",
       "        vertical-align: top;\n",
       "    }\n",
       "\n",
       "    .dataframe thead th {\n",
       "        text-align: right;\n",
       "    }\n",
       "</style>\n",
       "<table border=\"1\" class=\"dataframe\">\n",
       "  <thead>\n",
       "    <tr style=\"text-align: right;\">\n",
       "      <th></th>\n",
       "      <th>date</th>\n",
       "      <th>cust_code</th>\n",
       "      <th>emp_index</th>\n",
       "      <th>cust_residence</th>\n",
       "      <th>cust_gender</th>\n",
       "      <th>age</th>\n",
       "      <th>new_cust_index</th>\n",
       "      <th>cust_seniority</th>\n",
       "      <th>indrel</th>\n",
       "      <th>is_ever_primary_cust</th>\n",
       "      <th>...</th>\n",
       "      <th>mortgage</th>\n",
       "      <th>pensions1</th>\n",
       "      <th>loans</th>\n",
       "      <th>taxes</th>\n",
       "      <th>credit_card</th>\n",
       "      <th>securities</th>\n",
       "      <th>home_account</th>\n",
       "      <th>payroll</th>\n",
       "      <th>pensions2</th>\n",
       "      <th>direct_debit</th>\n",
       "    </tr>\n",
       "  </thead>\n",
       "  <tbody>\n",
       "  </tbody>\n",
       "</table>\n",
       "<p>0 rows × 45 columns</p>\n",
       "</div>"
      ],
      "text/plain": [
       "Empty DataFrame\n",
       "Columns: [date, cust_code, emp_index, cust_residence, cust_gender, age, new_cust_index, cust_seniority, indrel, is_ever_primary_cust, cust_type, cust_rel_time, cust_res_index, is_foreign, cust_spouse_index, deceased_index, addres_type, cod_prov, name_prov, activity_index, gross_income, saving_acc, guarantees, current_acc, derivada_acc, payroll_acc, junior_acc, mass_particular_acc, particular_acc, particular_plus_acc, short_term_deposit, long_term_deposit, ind_dela_fin_ult1, e_account, funds, mortgage, pensions1, loans, taxes, credit_card, securities, home_account, payroll, pensions2, direct_debit]\n",
       "Index: []\n",
       "\n",
       "[0 rows x 45 columns]"
      ]
     },
     "execution_count": 19,
     "metadata": {},
     "output_type": "execute_result"
    }
   ],
   "source": [
    "df[df.duplicated()]"
   ]
  },
  {
   "cell_type": "code",
   "execution_count": 20,
   "id": "671631aa-f6cd-4bff-bc3e-bfba02dda75c",
   "metadata": {},
   "outputs": [
    {
     "data": {
      "text/plain": [
       "date                         2\n",
       "cust_code               615432\n",
       "emp_index                    5\n",
       "cust_residence               5\n",
       "cust_gender                  2\n",
       "age                        114\n",
       "new_cust_index               2\n",
       "cust_seniority             248\n",
       "indrel                       2\n",
       "is_ever_primary_cust         2\n",
       "cust_type                    3\n",
       "cust_rel_time                3\n",
       "cust_res_index               2\n",
       "is_foreign                   2\n",
       "cust_spouse_index            2\n",
       "deceased_index               2\n",
       "addres_type                  1\n",
       "cod_prov                    52\n",
       "name_prov                   52\n",
       "activity_index               2\n",
       "gross_income            395642\n",
       "saving_acc                   2\n",
       "guarantees                   2\n",
       "current_acc                  2\n",
       "derivada_acc                 2\n",
       "payroll_acc                  2\n",
       "junior_acc                   2\n",
       "mass_particular_acc          2\n",
       "particular_acc               2\n",
       "particular_plus_acc          2\n",
       "short_term_deposit           2\n",
       "long_term_deposit            2\n",
       "ind_dela_fin_ult1            2\n",
       "e_account                    2\n",
       "funds                        2\n",
       "mortgage                     2\n",
       "pensions1                    2\n",
       "loans                        2\n",
       "taxes                        2\n",
       "credit_card                  2\n",
       "securities                   2\n",
       "home_account                 2\n",
       "payroll                      2\n",
       "pensions2                    2\n",
       "direct_debit                 2\n",
       "dtype: int64"
      ]
     },
     "execution_count": 20,
     "metadata": {},
     "output_type": "execute_result"
    }
   ],
   "source": [
    "df.nunique() #there is a problem with cust_code (should be unique)"
   ]
  },
  {
   "cell_type": "code",
   "execution_count": 21,
   "id": "99020407-88c3-4438-92e3-198bf245e888",
   "metadata": {},
   "outputs": [],
   "source": [
    "df = df.drop_duplicates(subset = 'cust_code', keep = \"last\")"
   ]
  },
  {
   "cell_type": "code",
   "execution_count": 22,
   "id": "11139b91-2f3e-4079-801a-e4e6cc5ab93b",
   "metadata": {},
   "outputs": [],
   "source": [
    "#there are only 2 date values. It can be dropped\n",
    "df = df.drop(\"date\", axis=1)"
   ]
  },
  {
   "cell_type": "code",
   "execution_count": 23,
   "id": "88ec7ece-8342-48f3-9e5b-6c3fe799d396",
   "metadata": {},
   "outputs": [
    {
     "data": {
      "text/plain": [
       "cust_code               0\n",
       "emp_index               0\n",
       "cust_residence          0\n",
       "cust_gender             0\n",
       "age                     0\n",
       "new_cust_index          0\n",
       "cust_seniority          0\n",
       "indrel                  0\n",
       "is_ever_primary_cust    0\n",
       "cust_type               0\n",
       "cust_rel_time           0\n",
       "cust_res_index          0\n",
       "is_foreign              0\n",
       "cust_spouse_index       0\n",
       "deceased_index          0\n",
       "addres_type             0\n",
       "cod_prov                0\n",
       "name_prov               0\n",
       "activity_index          0\n",
       "gross_income            0\n",
       "saving_acc              0\n",
       "guarantees              0\n",
       "current_acc             0\n",
       "derivada_acc            0\n",
       "payroll_acc             0\n",
       "junior_acc              0\n",
       "mass_particular_acc     0\n",
       "particular_acc          0\n",
       "particular_plus_acc     0\n",
       "short_term_deposit      0\n",
       "long_term_deposit       0\n",
       "ind_dela_fin_ult1       0\n",
       "e_account               0\n",
       "funds                   0\n",
       "mortgage                0\n",
       "pensions1               0\n",
       "loans                   0\n",
       "taxes                   0\n",
       "credit_card             0\n",
       "securities              0\n",
       "home_account            0\n",
       "payroll                 0\n",
       "pensions2               0\n",
       "direct_debit            0\n",
       "dtype: int64"
      ]
     },
     "execution_count": 23,
     "metadata": {},
     "output_type": "execute_result"
    }
   ],
   "source": [
    "df.isna().sum()"
   ]
  },
  {
   "cell_type": "code",
   "execution_count": 24,
   "id": "cecae78f-c8e1-49c6-990d-67de4400701f",
   "metadata": {},
   "outputs": [
    {
     "name": "stdout",
     "output_type": "stream",
     "text": [
      "<class 'pandas.core.frame.DataFrame'>\n",
      "Int64Index: 615432 entries, 0 to 999999\n",
      "Data columns (total 44 columns):\n",
      " #   Column                Non-Null Count   Dtype  \n",
      "---  ------                --------------   -----  \n",
      " 0   cust_code             615432 non-null  int64  \n",
      " 1   emp_index             615432 non-null  object \n",
      " 2   cust_residence        615432 non-null  object \n",
      " 3   cust_gender           615432 non-null  object \n",
      " 4   age                   615432 non-null  object \n",
      " 5   new_cust_index        615432 non-null  float64\n",
      " 6   cust_seniority        615432 non-null  object \n",
      " 7   indrel                615432 non-null  float64\n",
      " 8   is_ever_primary_cust  615432 non-null  object \n",
      " 9   cust_type             615432 non-null  float64\n",
      " 10  cust_rel_time         615432 non-null  object \n",
      " 11  cust_res_index        615432 non-null  object \n",
      " 12  is_foreign            615432 non-null  object \n",
      " 13  cust_spouse_index     615432 non-null  object \n",
      " 14  deceased_index        615432 non-null  object \n",
      " 15  addres_type           615432 non-null  float64\n",
      " 16  cod_prov              615432 non-null  float64\n",
      " 17  name_prov             615432 non-null  object \n",
      " 18  activity_index        615432 non-null  float64\n",
      " 19  gross_income          615432 non-null  float64\n",
      " 20  saving_acc            615432 non-null  int64  \n",
      " 21  guarantees            615432 non-null  int64  \n",
      " 22  current_acc           615432 non-null  int64  \n",
      " 23  derivada_acc          615432 non-null  int64  \n",
      " 24  payroll_acc           615432 non-null  int64  \n",
      " 25  junior_acc            615432 non-null  int64  \n",
      " 26  mass_particular_acc   615432 non-null  int64  \n",
      " 27  particular_acc        615432 non-null  int64  \n",
      " 28  particular_plus_acc   615432 non-null  int64  \n",
      " 29  short_term_deposit    615432 non-null  int64  \n",
      " 30  long_term_deposit     615432 non-null  int64  \n",
      " 31  ind_dela_fin_ult1     615432 non-null  int64  \n",
      " 32  e_account             615432 non-null  int64  \n",
      " 33  funds                 615432 non-null  int64  \n",
      " 34  mortgage              615432 non-null  int64  \n",
      " 35  pensions1             615432 non-null  int64  \n",
      " 36  loans                 615432 non-null  int64  \n",
      " 37  taxes                 615432 non-null  int64  \n",
      " 38  credit_card           615432 non-null  int64  \n",
      " 39  securities            615432 non-null  int64  \n",
      " 40  home_account          615432 non-null  int64  \n",
      " 41  payroll               615432 non-null  float64\n",
      " 42  pensions2             615432 non-null  float64\n",
      " 43  direct_debit          615432 non-null  int64  \n",
      "dtypes: float64(9), int64(23), object(12)\n",
      "memory usage: 211.3+ MB\n"
     ]
    }
   ],
   "source": [
    "df.info()"
   ]
  },
  {
   "cell_type": "code",
   "execution_count": 25,
   "id": "328acf5a-5be5-4420-9803-d79382133f20",
   "metadata": {},
   "outputs": [],
   "source": [
    "#arranging dtypes\n",
    "df['emp_index'] = df.emp_index.astype('category')\n",
    "df['cust_residence'] = df.cust_residence.astype('category')\n",
    "df['cust_gender'] = df.cust_gender.astype('category')\n",
    "df['age'] = df.age.astype('int64')\n",
    "df['cust_seniority'] = df.cust_seniority.astype('int64')\n",
    "df['is_ever_primary_cust'] = df.is_ever_primary_cust.astype('int64')\n",
    "df['cust_rel_time'] = df.cust_rel_time.astype('category')\n",
    "df['cust_res_index'] = df.cust_rel_time.astype('category')\n",
    "df['is_foreign'] = df.cust_rel_time.astype('category')\n",
    "df['cust_spouse_index'] = df.cust_spouse_index.astype('category')\n",
    "df['deceased_index'] = df.deceased_index.astype('category')\n",
    "df = df.drop(\"addres_type\", axis=1) #there is only 1 addres type, so I dropped\n",
    "df['name_prov'] = df.deceased_index.astype('category')"
   ]
  },
  {
   "cell_type": "code",
   "execution_count": 26,
   "id": "c22e89fc-9db9-429b-82e1-9bbeb856670d",
   "metadata": {},
   "outputs": [
    {
     "name": "stdout",
     "output_type": "stream",
     "text": [
      "<class 'pandas.core.frame.DataFrame'>\n",
      "Int64Index: 615432 entries, 0 to 999999\n",
      "Data columns (total 43 columns):\n",
      " #   Column                Non-Null Count   Dtype   \n",
      "---  ------                --------------   -----   \n",
      " 0   cust_code             615432 non-null  int64   \n",
      " 1   emp_index             615432 non-null  category\n",
      " 2   cust_residence        615432 non-null  category\n",
      " 3   cust_gender           615432 non-null  category\n",
      " 4   age                   615432 non-null  int64   \n",
      " 5   new_cust_index        615432 non-null  float64 \n",
      " 6   cust_seniority        615432 non-null  int64   \n",
      " 7   indrel                615432 non-null  float64 \n",
      " 8   is_ever_primary_cust  615432 non-null  int64   \n",
      " 9   cust_type             615432 non-null  float64 \n",
      " 10  cust_rel_time         615432 non-null  category\n",
      " 11  cust_res_index        615432 non-null  category\n",
      " 12  is_foreign            615432 non-null  category\n",
      " 13  cust_spouse_index     615432 non-null  category\n",
      " 14  deceased_index        615432 non-null  category\n",
      " 15  cod_prov              615432 non-null  float64 \n",
      " 16  name_prov             615432 non-null  category\n",
      " 17  activity_index        615432 non-null  float64 \n",
      " 18  gross_income          615432 non-null  float64 \n",
      " 19  saving_acc            615432 non-null  int64   \n",
      " 20  guarantees            615432 non-null  int64   \n",
      " 21  current_acc           615432 non-null  int64   \n",
      " 22  derivada_acc          615432 non-null  int64   \n",
      " 23  payroll_acc           615432 non-null  int64   \n",
      " 24  junior_acc            615432 non-null  int64   \n",
      " 25  mass_particular_acc   615432 non-null  int64   \n",
      " 26  particular_acc        615432 non-null  int64   \n",
      " 27  particular_plus_acc   615432 non-null  int64   \n",
      " 28  short_term_deposit    615432 non-null  int64   \n",
      " 29  long_term_deposit     615432 non-null  int64   \n",
      " 30  ind_dela_fin_ult1     615432 non-null  int64   \n",
      " 31  e_account             615432 non-null  int64   \n",
      " 32  funds                 615432 non-null  int64   \n",
      " 33  mortgage              615432 non-null  int64   \n",
      " 34  pensions1             615432 non-null  int64   \n",
      " 35  loans                 615432 non-null  int64   \n",
      " 36  taxes                 615432 non-null  int64   \n",
      " 37  credit_card           615432 non-null  int64   \n",
      " 38  securities            615432 non-null  int64   \n",
      " 39  home_account          615432 non-null  int64   \n",
      " 40  payroll               615432 non-null  float64 \n",
      " 41  pensions2             615432 non-null  float64 \n",
      " 42  direct_debit          615432 non-null  int64   \n",
      "dtypes: category(9), float64(8), int64(26)\n",
      "memory usage: 169.6 MB\n"
     ]
    }
   ],
   "source": [
    "df.info()"
   ]
  },
  {
   "cell_type": "code",
   "execution_count": 27,
   "id": "21a0480a-7077-4584-86a0-fe5f3fec87cf",
   "metadata": {},
   "outputs": [
    {
     "data": {
      "text/plain": [
       "cust_code               615432\n",
       "emp_index                    5\n",
       "cust_residence               5\n",
       "cust_gender                  2\n",
       "age                        114\n",
       "new_cust_index               2\n",
       "cust_seniority             248\n",
       "indrel                       2\n",
       "is_ever_primary_cust         2\n",
       "cust_type                    3\n",
       "cust_rel_time                3\n",
       "cust_res_index               3\n",
       "is_foreign                   3\n",
       "cust_spouse_index            2\n",
       "deceased_index               2\n",
       "cod_prov                    52\n",
       "name_prov                    2\n",
       "activity_index               2\n",
       "gross_income            395642\n",
       "saving_acc                   2\n",
       "guarantees                   2\n",
       "current_acc                  2\n",
       "derivada_acc                 2\n",
       "payroll_acc                  2\n",
       "junior_acc                   2\n",
       "mass_particular_acc          2\n",
       "particular_acc               2\n",
       "particular_plus_acc          2\n",
       "short_term_deposit           2\n",
       "long_term_deposit            2\n",
       "ind_dela_fin_ult1            2\n",
       "e_account                    2\n",
       "funds                        2\n",
       "mortgage                     2\n",
       "pensions1                    2\n",
       "loans                        2\n",
       "taxes                        2\n",
       "credit_card                  2\n",
       "securities                   2\n",
       "home_account                 2\n",
       "payroll                      2\n",
       "pensions2                    2\n",
       "direct_debit                 2\n",
       "dtype: int64"
      ]
     },
     "execution_count": 27,
     "metadata": {},
     "output_type": "execute_result"
    }
   ],
   "source": [
    "df.nunique()"
   ]
  },
  {
   "cell_type": "code",
   "execution_count": 28,
   "id": "aa6ad293-8ccd-4a75-b267-f72168a9f74b",
   "metadata": {},
   "outputs": [],
   "source": [
    "df = df.reset_index(drop=True)"
   ]
  },
  {
   "cell_type": "code",
   "execution_count": 29,
   "id": "a82d8b2f-eb76-4730-896e-6d7590199656",
   "metadata": {},
   "outputs": [
    {
     "data": {
      "text/plain": [
       "count    615432.000000\n",
       "mean         40.451985\n",
       "std          17.077243\n",
       "min           2.000000\n",
       "25%          24.000000\n",
       "50%          39.000000\n",
       "75%          51.000000\n",
       "max         116.000000\n",
       "Name: age, dtype: float64"
      ]
     },
     "execution_count": 29,
     "metadata": {},
     "output_type": "execute_result"
    }
   ],
   "source": [
    "df['age'].describe()"
   ]
  },
  {
   "cell_type": "code",
   "execution_count": 30,
   "id": "b0758bd2-f6a4-480d-a723-d18130563f17",
   "metadata": {},
   "outputs": [
    {
     "data": {
      "text/plain": [
       "count    615432.000000\n",
       "mean         80.008818\n",
       "std        1804.030885\n",
       "min     -999999.000000\n",
       "25%          24.000000\n",
       "50%          53.000000\n",
       "75%         140.000000\n",
       "max         246.000000\n",
       "Name: cust_seniority, dtype: float64"
      ]
     },
     "execution_count": 30,
     "metadata": {},
     "output_type": "execute_result"
    }
   ],
   "source": [
    "df['cust_seniority'].describe()"
   ]
  },
  {
   "cell_type": "code",
   "execution_count": 31,
   "id": "8fbf28d8-785a-4949-95ae-282733701017",
   "metadata": {},
   "outputs": [],
   "source": [
    "#change negative cust_seniority values\n",
    "df.loc[df.cust_seniority < 0,\"cust_seniority\"] = 1   "
   ]
  },
  {
   "cell_type": "code",
   "execution_count": 32,
   "id": "45dbc8b9-9f14-4c55-b0c8-a72dc1af5538",
   "metadata": {},
   "outputs": [
    {
     "data": {
      "text/plain": [
       "count    615432.000000\n",
       "mean         83.258568\n",
       "std          65.179021\n",
       "min           0.000000\n",
       "25%          24.000000\n",
       "50%          53.000000\n",
       "75%         140.000000\n",
       "max         246.000000\n",
       "Name: cust_seniority, dtype: float64"
      ]
     },
     "execution_count": 32,
     "metadata": {},
     "output_type": "execute_result"
    }
   ],
   "source": [
    "df['cust_seniority'].describe()"
   ]
  },
  {
   "cell_type": "code",
   "execution_count": 33,
   "id": "e11a06d6-f0df-44a6-b092-8acecef487b1",
   "metadata": {},
   "outputs": [
    {
     "data": {
      "text/plain": [
       "<AxesSubplot:xlabel='cust_seniority'>"
      ]
     },
     "execution_count": 33,
     "metadata": {},
     "output_type": "execute_result"
    },
    {
     "data": {
      "image/png": "[encoded data removed]",
      "text/plain": [
       "<Figure size 432x288 with 1 Axes>"
      ]
     },
     "metadata": {
      "needs_background": "light"
     },
     "output_type": "display_data"
    }
   ],
   "source": [
    "#outlier detection \n",
    "import seaborn as sns\n",
    "sns.boxplot(x = df['cust_seniority'])"
   ]
  },
  {
   "cell_type": "code",
   "execution_count": 34,
   "id": "f133736e-3d64-4339-81fa-f535823c98ce",
   "metadata": {},
   "outputs": [
    {
     "data": {
      "text/plain": [
       "<AxesSubplot:xlabel='age'>"
      ]
     },
     "execution_count": 34,
     "metadata": {},
     "output_type": "execute_result"
    },
    {
     "data": {
      "image/png": "[encoded data removed]",
      "text/plain": [
       "<Figure size 432x288 with 1 Axes>"
      ]
     },
     "metadata": {
      "needs_background": "light"
     },
     "output_type": "display_data"
    }
   ],
   "source": [
    "sns.boxplot(x = df['age'])"
   ]
  },
  {
   "cell_type": "code",
   "execution_count": 35,
   "id": "2c375c50-fa0c-4aea-b00b-f8aec9877353",
   "metadata": {},
   "outputs": [],
   "source": [
    "Q1 = df.age.quantile(0.25)\n",
    "Q3 = df.age.quantile(0.75)\n",
    "IQR = Q3 - Q1\n",
    "low = Q1-1.5*IQR\n",
    "high = Q3+1.5*IQR\n",
    "df = df.loc[(df['age'] > low) & (df['age'] < high)]"
   ]
  },
  {
   "cell_type": "code",
   "execution_count": 36,
   "id": "c555c441-41c9-4c3e-978e-b69956869238",
   "metadata": {},
   "outputs": [
    {
     "data": {
      "text/plain": [
       "<AxesSubplot:xlabel='age'>"
      ]
     },
     "execution_count": 36,
     "metadata": {},
     "output_type": "execute_result"
    },
    {
     "data": {
      "image/png": "[encoded data removed]",
      "text/plain": [
       "<Figure size 432x288 with 1 Axes>"
      ]
     },
     "metadata": {
      "needs_background": "light"
     },
     "output_type": "display_data"
    }
   ],
   "source": [
    "sns.boxplot(x = df['age'])"
   ]
  },
  {
   "cell_type": "code",
   "execution_count": 37,
   "id": "7216d41c-5df1-4500-8a21-9f80d43dac3f",
   "metadata": {},
   "outputs": [
    {
     "name": "stdout",
     "output_type": "stream",
     "text": [
      "<class 'pandas.core.frame.DataFrame'>\n",
      "Int64Index: 612040 entries, 0 to 615431\n",
      "Data columns (total 43 columns):\n",
      " #   Column                Non-Null Count   Dtype   \n",
      "---  ------                --------------   -----   \n",
      " 0   cust_code             612040 non-null  int64   \n",
      " 1   emp_index             612040 non-null  category\n",
      " 2   cust_residence        612040 non-null  category\n",
      " 3   cust_gender           612040 non-null  category\n",
      " 4   age                   612040 non-null  int64   \n",
      " 5   new_cust_index        612040 non-null  float64 \n",
      " 6   cust_seniority        612040 non-null  int64   \n",
      " 7   indrel                612040 non-null  float64 \n",
      " 8   is_ever_primary_cust  612040 non-null  int64   \n",
      " 9   cust_type             612040 non-null  float64 \n",
      " 10  cust_rel_time         612040 non-null  category\n",
      " 11  cust_res_index        612040 non-null  category\n",
      " 12  is_foreign            612040 non-null  category\n",
      " 13  cust_spouse_index     612040 non-null  category\n",
      " 14  deceased_index        612040 non-null  category\n",
      " 15  cod_prov              612040 non-null  float64 \n",
      " 16  name_prov             612040 non-null  category\n",
      " 17  activity_index        612040 non-null  float64 \n",
      " 18  gross_income          612040 non-null  float64 \n",
      " 19  saving_acc            612040 non-null  int64   \n",
      " 20  guarantees            612040 non-null  int64   \n",
      " 21  current_acc           612040 non-null  int64   \n",
      " 22  derivada_acc          612040 non-null  int64   \n",
      " 23  payroll_acc           612040 non-null  int64   \n",
      " 24  junior_acc            612040 non-null  int64   \n",
      " 25  mass_particular_acc   612040 non-null  int64   \n",
      " 26  particular_acc        612040 non-null  int64   \n",
      " 27  particular_plus_acc   612040 non-null  int64   \n",
      " 28  short_term_deposit    612040 non-null  int64   \n",
      " 29  long_term_deposit     612040 non-null  int64   \n",
      " 30  ind_dela_fin_ult1     612040 non-null  int64   \n",
      " 31  e_account             612040 non-null  int64   \n",
      " 32  funds                 612040 non-null  int64   \n",
      " 33  mortgage              612040 non-null  int64   \n",
      " 34  pensions1             612040 non-null  int64   \n",
      " 35  loans                 612040 non-null  int64   \n",
      " 36  taxes                 612040 non-null  int64   \n",
      " 37  credit_card           612040 non-null  int64   \n",
      " 38  securities            612040 non-null  int64   \n",
      " 39  home_account          612040 non-null  int64   \n",
      " 40  payroll               612040 non-null  float64 \n",
      " 41  pensions2             612040 non-null  float64 \n",
      " 42  direct_debit          612040 non-null  int64   \n",
      "dtypes: category(9), float64(8), int64(26)\n",
      "memory usage: 168.7 MB\n"
     ]
    }
   ],
   "source": [
    "df.info()"
   ]
  }
 ],
 "metadata": {
  "kernelspec": {
   "display_name": "Python 3",
   "language": "python",
   "name": "python3"
  },
  "language_info": {
   "codemirror_mode": {
    "name": "ipython",
    "version": 3
   },
   "file_extension": ".py",
   "mimetype": "text/x-python",
   "name": "python",
   "nbconvert_exporter": "python",
   "pygments_lexer": "ipython3",
   "version": "3.8.8"
  }
 },
 "nbformat": 4,
 "nbformat_minor": 5
}
